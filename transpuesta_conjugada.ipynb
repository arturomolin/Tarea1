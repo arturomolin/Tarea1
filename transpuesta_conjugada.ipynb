{
  "nbformat": 4,
  "nbformat_minor": 0,
  "metadata": {
    "colab": {
      "provenance": [],
      "include_colab_link": true
    },
    "kernelspec": {
      "name": "python3",
      "display_name": "Python 3"
    },
    "language_info": {
      "name": "python"
    }
  },
  "cells": [
    {
      "cell_type": "markdown",
      "metadata": {
        "id": "view-in-github",
        "colab_type": "text"
      },
      "source": [
        "<a href=\"https://colab.research.google.com/github/arturomolin/Tarea1/blob/main/transpuesta_conjugada.ipynb\" target=\"_parent\"><img src=\"https://colab.research.google.com/assets/colab-badge.svg\" alt=\"Open In Colab\"/></a>"
      ]
    },
    {
      "cell_type": "code",
      "execution_count": null,
      "metadata": {
        "colab": {
          "base_uri": "https://localhost:8080/"
        },
        "id": "j2uXRWbc-JU2",
        "outputId": "de5d1d63-d83d-4f59-d43e-5a21277f3dde"
      },
      "outputs": [
        {
          "output_type": "stream",
          "name": "stdout",
          "text": [
            "Ingresa el numero de filas: 1\n",
            "Ingresa el numero de columnas: 1\n",
            "Ingresa los valores de la matriz (de la forma a+bj):\n",
            "Elemento (1,1): 1+3j\n",
            "\n",
            "Matriz transpuesta conjugada:\n",
            "[(1-3j)]\n"
          ]
        }
      ],
      "source": [
        "# se crea la funcion para calcular la transpuesta conjugada de una matriz compleja\n",
        "def transpuesta_conjugada(matriz):\n",
        "    # se obtienen el numero de filas y columnas de la matriz\n",
        "    filas = len(matriz)\n",
        "    columnas = len(matriz[0])\n",
        "\n",
        "    # se crea una nueva matriz con las dimensiones intercambiadas para calcular la transpuesta\n",
        "    transpuesta = [[0] * filas for _ in range(columnas)]\n",
        "\n",
        "    # se rellena la matriz transpuesta con los valores conjugados\n",
        "    for j in range(filas):\n",
        "        for i in range(columnas):\n",
        "            # se da el valor conjugado a la posicion intercambiada cambiando indices\n",
        "            transpuesta[j][i] = matriz[i][j].conjugate()\n",
        "\n",
        "    return transpuesta\n",
        "\n",
        "# se pide al usuario las dimensiones de la matriz\n",
        "filas = int(input(\"Ingresa el numero de filas: \"))\n",
        "columnas = int(input(\"Ingresa el numero de columnas: \"))\n",
        "\n",
        "# se crea una matriz vacía para almacenar los valores complejos\n",
        "matriz = []\n",
        "\n",
        "# se pide al usuario los valores de la matriz\n",
        "print(\"Ingresa los valores de la matriz (de la forma a+bj):\")\n",
        "for j in range(filas):\n",
        "    fila = []  # se almacena una fila de la matriz\n",
        "    for i in range(columnas):\n",
        "        valor = complex(input(f\"Elemento ({i+1},{j+1}): \"))  # se  guarda el numero complejo entrada por entrada\n",
        "        fila.append(valor)  # se añade el valor a la fila\n",
        "    matriz.append(fila)  # se añade la fila a la matriz\n",
        "\n",
        "# se guarda la transpuesta conjugada\n",
        "resultado = transpuesta_conjugada(matriz)\n",
        "\n",
        "# se imprime la matriz resultante\n",
        "print(\"\\nMatriz transpuesta conjugada:\")\n",
        "for fila in resultado:\n",
        "    print(fila)\n"
      ]
    }
  ]
}