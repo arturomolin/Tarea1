{
  "nbformat": 4,
  "nbformat_minor": 0,
  "metadata": {
    "colab": {
      "provenance": [],
      "include_colab_link": true
    },
    "kernelspec": {
      "name": "python3",
      "display_name": "Python 3"
    },
    "language_info": {
      "name": "python"
    }
  },
  "cells": [
    {
      "cell_type": "markdown",
      "metadata": {
        "id": "view-in-github",
        "colab_type": "text"
      },
      "source": [
        "<a href=\"https://colab.research.google.com/github/arturomolin/Tarea1/blob/main/Ejercicio_22.ipynb\" target=\"_parent\"><img src=\"https://colab.research.google.com/assets/colab-badge.svg\" alt=\"Open In Colab\"/></a>"
      ]
    },
    {
      "cell_type": "markdown",
      "source": [
        "# Pregunta 22\n",
        "\n"
      ],
      "metadata": {
        "id": "9vGv9NqhHEoW"
      }
    },
    {
      "cell_type": "code",
      "execution_count": null,
      "metadata": {
        "id": "8vchWIdz-Y_s"
      },
      "outputs": [],
      "source": [
        "import numpy as np\n",
        "from numpy import linalg as LA\n",
        "\n",
        "def Transpuesta(Mat):\n",
        "    \"\"\"\n",
        "    Calcula la transpuesta de una matriz cuadrada modificando la matriz original.\n",
        "\n",
        "    Parámetros:\n",
        "    -----------\n",
        "    Mat : numpy.ndarray\n",
        "        Matriz cuadrada de tamaño n x n que se transpondrá.\n",
        "        La matriz se modificará in situ.\n",
        "\n",
        "    Retorna:\n",
        "    --------\n",
        "    numpy.ndarray\n",
        "        La matriz transpuesta. La matriz original también se modifica.\n",
        "\n",
        "    Ejemplo:\n",
        "    --------\n",
        "    >>> Mat = np.array([[1, 2, 3],\n",
        "    ...                [4, 5, 6],\n",
        "    ...                [7, 8, 9]])\n",
        "    >>> Transpuesta(Mat)\n",
        "    array([[1, 4, 7],\n",
        "           [2, 5, 8],\n",
        "           [3, 6, 9]])\n",
        "    \"\"\"\n",
        "    for ren in range(Mat.shape[0]):\n",
        "        for col in range(Mat.shape[1]):\n",
        "            if ren < col:\n",
        "                # Intercambia los elementos para obtener la transpuesta\n",
        "                Mat[ren, col], Mat[col, ren] = Mat[col, ren], Mat[ren, col]\n",
        "    return Mat\n",
        "\n",
        "def Cofactores(Mat):\n",
        "    \"\"\"\n",
        "    Calcula la matriz de cofactores de una matriz cuadrada.\n",
        "\n",
        "    Parámetros:\n",
        "    -----------\n",
        "    Mat : numpy.ndarray\n",
        "        Matriz cuadrada de tamaño n x n para la cual se calcularán los cofactores.\n",
        "\n",
        "    Retorna:\n",
        "    --------\n",
        "    numpy.ndarray\n",
        "        Matriz de cofactores, donde cada elemento es el cofactor correspondiente\n",
        "        de la matriz original.\n",
        "\n",
        "    Ejemplo:\n",
        "    --------\n",
        "    >>> Mat = np.array([[1, 2],\n",
        "    ...                [3, 4]])\n",
        "    >>> Cofactores(Mat)\n",
        "    array([[ 4., -3.],\n",
        "           [-2.,  1.]])\n",
        "    \"\"\"\n",
        "    # Crear una matriz de ceros del mismo tamaño que Mat para almacenar los cofactores\n",
        "    Cofa = np.zeros_like(Mat, dtype=float)\n",
        "\n",
        "    # Calcular el cofactor para cada elemento de la matriz\n",
        "    for ren in range(Mat.shape[0]):\n",
        "        for col in range(Mat.shape[1]):\n",
        "            # Calcular el determinante de la submatriz (menor) y aplicar el signo\n",
        "            Cofa[ren, col] = ((-1) ** (ren + col)) * Det(SubMat(Mat, ren, col))\n",
        "    return Cofa\n",
        "\n",
        "def SubMat(Mat, ren, col):\n",
        "    \"\"\"\n",
        "    Crea una submatriz eliminando un renglón y una columna específicos de la matriz original.\n",
        "\n",
        "    Parámetros:\n",
        "    -----------\n",
        "    Mat : numpy.ndarray\n",
        "        Matriz original de la cual se obtendrá la submatriz.\n",
        "    ren : int\n",
        "        Índice del renglón que se eliminará de la matriz.\n",
        "    col : int\n",
        "        Índice de la columna que se eliminará de la matriz.\n",
        "\n",
        "    Retorna:\n",
        "    --------\n",
        "    numpy.ndarray\n",
        "        Submatriz resultante después de eliminar el renglón y la columna especificados.\n",
        "\n",
        "    Ejemplo:\n",
        "    --------\n",
        "    >>> Mat = np.array([[1, 2, 3],\n",
        "    ...                [4, 5, 6],\n",
        "    ...                [7, 8, 9]])\n",
        "    >>> SubMat(Mat, 1, 1)\n",
        "    array([[1, 3],\n",
        "           [7, 9]])\n",
        "    \"\"\"\n",
        "    # Crear una copia de la matriz original para no modificarla\n",
        "    M1 = np.copy(Mat)\n",
        "\n",
        "    # Eliminar el renglón especificado\n",
        "    M1 = np.delete(M1, ren, axis=0)\n",
        "\n",
        "    # Eliminar la columna especificada\n",
        "    M1 = np.delete(M1, col, axis=1)\n",
        "\n",
        "    return M1\n",
        "\n",
        "def Det(Mat):\n",
        "    \"\"\"\n",
        "    Calcula el determinante de una matriz cuadrada de manera recursiva.\n",
        "\n",
        "    Parámetros:\n",
        "    -----------\n",
        "    Mat : numpy.ndarray\n",
        "        Matriz cuadrada de la cual se calculará el determinante.\n",
        "        Debe ser de tamaño n x n, donde n >= 2.\n",
        "\n",
        "    Retorna:\n",
        "    --------\n",
        "    float\n",
        "        El determinante de la matriz.\n",
        "\n",
        "    Ejemplo:\n",
        "    --------\n",
        "    >>> Mat = np.array([[1, 2],\n",
        "    ...                [3, 4]])\n",
        "    >>> Det(Mat)\n",
        "    -2.0\n",
        "\n",
        "    >>> Mat = np.array([[6, 1, 1],\n",
        "    ...                [4, -2, 5],\n",
        "    ...                [2, 8, 7]])\n",
        "    >>> Det(Mat)\n",
        "    -306.0\n",
        "    \"\"\"\n",
        "    # Caso base: matriz 2x2\n",
        "    if Mat.shape[0] == 2 and Mat.shape[1] == 2:\n",
        "        return Mat[0][0] * Mat[1][1] - (Mat[0][1] * Mat[1][0])\n",
        "\n",
        "    # Caso recursivo: matrices más grandes\n",
        "    deter = 0.0\n",
        "    for col in range(Mat.shape[0]):\n",
        "        # Calcula el cofactor y suma al determinante\n",
        "        deter += ((-1) ** col) * Mat[0][col] * Det(SubMat(Mat, 0, col))\n",
        "    return deter\n",
        "\n",
        "def Inv(Mat):\n",
        "    \"\"\"\n",
        "    Calcula la inversa de una matriz cuadrada utilizando la matriz de cofactores.\n",
        "\n",
        "    Parámetros:\n",
        "    -----------\n",
        "    Mat : numpy.ndarray\n",
        "        Matriz cuadrada de tamaño n x n que se invertirá.\n",
        "        Debe ser una matriz no singular (su determinante debe ser distinto de cero).\n",
        "\n",
        "    Retorna:\n",
        "    --------\n",
        "    numpy.ndarray\n",
        "        La matriz inversa de la matriz original.\n",
        "\n",
        "    Ejemplo:\n",
        "    --------\n",
        "    >>> Mat = np.array([[4, 7],\n",
        "    ...                [2, 6]])\n",
        "    >>> Inv(Mat)\n",
        "    array([[ 0.6, -0.7],\n",
        "           [-0.2,  0.4]])\n",
        "    \"\"\"\n",
        "    # Calcular el determinante de la matriz\n",
        "    deter = Det(Mat)\n",
        "\n",
        "    # Verificar si la matriz es singular (determinante = 0)\n",
        "    if deter == 0:\n",
        "        raise ValueError(\"La matriz es singular y no tiene inversa.\")\n",
        "\n",
        "    # Calcular la matriz de cofactores\n",
        "    Cofac = Cofactores(Mat)\n",
        "\n",
        "    # Transponer la matriz de cofactores para obtener la matriz adjunta\n",
        "    Cofac = Transpuesta(Cofac)\n",
        "\n",
        "    # Calcular la inversa multiplicando la adjunta por 1/determinante\n",
        "    Inversa = (1 / deter) * Cofac\n",
        "\n",
        "    return Inversa\n",
        "# @title Formulario\n",
        "def SustitucionDelante(Mat, b):\n",
        "    \"\"\"\n",
        "    Realiza la sustitución hacia adelante para resolver un sistema de ecuaciones lineales\n",
        "    representado por una matriz triangular inferior.\n",
        "\n",
        "    Parámetros:\n",
        "    -----------\n",
        "    Mat : numpy.ndarray\n",
        "        Una matriz triangular inferior de tamaño n x n.\n",
        "    b : numpy.ndarray\n",
        "        Un vector de términos independientes de tamaño n.\n",
        "\n",
        "    Retorna:\n",
        "    --------\n",
        "    x : numpy.ndarray\n",
        "        Un vector solución de tamaño n que satisface la ecuación Mat @ x = b.\n",
        "\n",
        "    Descripción:\n",
        "    ------------\n",
        "    Esta función resuelve un sistema de ecuaciones lineales de la forma Mat @ x = b,\n",
        "    donde Mat es una matriz triangular inferior. Utiliza el método de sustitución hacia adelante,\n",
        "    comenzando desde la primera fila de la matriz y avanzando hacia la última.\n",
        "\n",
        "    Ejemplo:\n",
        "    --------\n",
        "    >>> Mat = np.array([[1, 0, 0],\n",
        "    ...                 [2, 3, 0],\n",
        "    ...                 [4, 5, 6]])\n",
        "    >>> b = np.array([1, 8, 32])\n",
        "    >>> SustitucionDelante(Mat, b)\n",
        "    array([1., 2., 3.])\n",
        "    \"\"\"\n",
        "    n = Mat.shape[0]\n",
        "    x = np.zeros(n)\n",
        "\n",
        "    for i in range(n):\n",
        "        SumCum = 0.0\n",
        "        for j in range(i):\n",
        "            SumCum += Mat[i, j] * x[j]\n",
        "        x[i] = (b[i] - SumCum) / Mat[i, i]\n",
        "\n",
        "    return x\n",
        "\n",
        "def SustitucionAtras(Mat, b):\n",
        "    \"\"\"\n",
        "    Realiza la sustitución hacia atrás para resolver un sistema de ecuaciones lineales\n",
        "    representado por una matriz triangular superior.\n",
        "\n",
        "    Parámetros:\n",
        "    -----------\n",
        "    Mat : numpy.ndarray\n",
        "        Una matriz triangular superior de tamaño n x n.\n",
        "    b : numpy.ndarray\n",
        "        Un vector de términos independientes de tamaño n.\n",
        "\n",
        "    Retorna:\n",
        "    --------\n",
        "    x : numpy.ndarray\n",
        "        Un vector solución de tamaño n que satisface la ecuación Mat @ x = b.\n",
        "\n",
        "    Descripción:\n",
        "    ------------\n",
        "    Esta función resuelve un sistema de ecuaciones lineales de la forma Mat @ x = b,\n",
        "    donde Mat es una matriz triangular superior. Utiliza el método de sustitución hacia atrás,\n",
        "    comenzando desde la última fila de la matriz y avanzando hacia la primera.\n",
        "\n",
        "    Ejemplo:\n",
        "    --------\n",
        "    >>> Mat = np.array([[3, 2, 1],\n",
        "    ...                 [0, 2, 1],\n",
        "    ...                 [0, 0, 1]])\n",
        "    >>> b = np.array([6, 4, 1])\n",
        "    >>> SustitucionAtras(Mat, b)\n",
        "    array([1., 1., 1.])\n",
        "    \"\"\"\n",
        "    n = Mat.shape[0]\n",
        "    x = np.zeros(n)\n",
        "\n",
        "    for i in range(n-1, -1, -1):\n",
        "        SumCum = 0.0\n",
        "        for j in range(i+1, n):\n",
        "            SumCum += Mat[i, j] * x[j]\n",
        "        x[i] = (b[i] - SumCum) / Mat[i, i]\n",
        "\n",
        "    return x\n",
        "\n",
        "def LU(A):\n",
        "  U=np.copy(A)\n",
        "  L=np.eye(A.shape[0])\n",
        "\n",
        "  for i in range(A.shape[0]):\n",
        "    Li=np.eye(A.shape[0])\n",
        "    for j in range(i+1,A.shape[0]):\n",
        "      Li[j,i]=-U[j,i]/U[i,i]\n",
        "      L[j,i]=U[j,i]/U[i,i]\n",
        "    U=Li@U\n",
        "  return L,U\n",
        "\n",
        "def SolverLU(A,b):\n",
        "  L,U=LU(A)\n",
        "  # El sistema que se resuelve es Ly=b\n",
        "  y=SustitucionDelante(L, b)\n",
        "  # El sistema que se resuelve es Ux=y\n",
        "  x=SustitucionAtras(U, y)\n",
        "\n",
        "  return x\n",
        "\n",
        "def Permutaciones(A,b):\n",
        "  U=np.copy(A)\n",
        "  x=np.copy(b)\n",
        "  P=np.eye(A.shape[0])\n",
        "\n",
        "  for j in range(A.shape[0]):\n",
        "    k=np.argmax(np.abs(A[j:,j]))+j\n",
        "    U[[j,k]]=U[[k,j]]\n",
        "    P[[j,k]]=P[[k,j]]\n",
        "    x[[j,k]]=x[[k,j]]\n",
        "\n",
        "  return P,U,x\n",
        "\n",
        "\n",
        "def Solver_LU_Pivot_Partial(A,b):\n",
        "    P,Ap,bp=Permutaciones(A,b)\n",
        "    x=SolverLU(Ap,bp)\n",
        "\n",
        "    return x\n",
        "\n",
        "def condicion_matriz_norma1(A):\n",
        "    # Calcula la inversa usando tu función Inv (basada en cofactores)\n",
        "    A_inv = Inv(A)\n",
        "\n",
        "    # Calcula la norma 1 de A y de su inversa\n",
        "    norma_A = np.linalg.norm(A, ord=1)\n",
        "    norma_A_inv = np.linalg.norm(A_inv, ord=1)\n",
        "\n",
        "    # Regresa el número de condición\n",
        "    return norma_A * norma_A_inv\n"
      ]
    },
    {
      "cell_type": "markdown",
      "source": [
        "##(a) ¿Qué sucede cuando se usa Eliminación Gaussina con pivoteo parcial?."
      ],
      "metadata": {
        "id": "lEjbDxJzHBw6"
      }
    },
    {
      "cell_type": "markdown",
      "source": [
        "Primero insertamos la matriz inicial junto con las matrices prueba de las soluciones, esto para que corran nuestras funciones"
      ],
      "metadata": {
        "id": "nlApeytBHKhQ"
      }
    },
    {
      "cell_type": "code",
      "source": [
        "A=np.array([[1.,0.,0.,0.,1.],\n",
        "            [-1.,1.,0.,0.,1.],\n",
        "            [-1.,-1.,1.,0.,1.],\n",
        "            [-1.,-1.,-1.,1.,1.],\n",
        "            [-1.,-1.,-1.,-1.,1.]])\n",
        "\n",
        "b=np.array([1.,1.,1.,1.,1.])\n",
        "c=np.array([2.,2.,2.,2.,2.])\n",
        "d=np.array([3.,3.,3.,3.,3.])\n",
        "e=np.array([4.,4.,4.,4.,4.])\n",
        "f=np.array([5.,5.,5.,5.,5.])"
      ],
      "metadata": {
        "id": "c7YJ8fwz-iRe"
      },
      "execution_count": null,
      "outputs": []
    },
    {
      "cell_type": "markdown",
      "source": [
        "Ahora, hacemos el proceso de pivoteo parcial para ver como se comporta la matriz A al final"
      ],
      "metadata": {
        "id": "N9sug15NHfdv"
      }
    },
    {
      "cell_type": "code",
      "source": [
        "P, U, x = Permutaciones(A, b)\n",
        "\n",
        "L, U = LU(U)\n",
        "U"
      ],
      "metadata": {
        "colab": {
          "base_uri": "https://localhost:8080/"
        },
        "id": "Q0LidD7K_y8G",
        "outputId": "dfbb1780-bf2d-4eae-9689-77eb645294d6"
      },
      "execution_count": null,
      "outputs": [
        {
          "output_type": "execute_result",
          "data": {
            "text/plain": [
              "array([[ 1.,  0.,  0.,  0.,  1.],\n",
              "       [ 0.,  1.,  0.,  0.,  2.],\n",
              "       [ 0.,  0.,  1.,  0.,  4.],\n",
              "       [ 0.,  0.,  0.,  1.,  8.],\n",
              "       [ 0.,  0.,  0.,  0., 16.]])"
            ]
          },
          "metadata": {},
          "execution_count": 111
        }
      ]
    },
    {
      "cell_type": "markdown",
      "source": [
        "Podemos observar un comportamiento peculiar en la matriz, ya que tenemos casi una matriz identidad, solo que con la última columna con un 2^n."
      ],
      "metadata": {
        "id": "1JbbNCmtGxE1"
      }
    },
    {
      "cell_type": "markdown",
      "source": [],
      "metadata": {
        "id": "1FhihKW3Xoi6"
      }
    },
    {
      "cell_type": "markdown",
      "source": [
        "##(b) Usar Eliminación Gaussina con pivoteo parcial para resolver sistemas de varios tamaños (al menos 5) con vectores b elegidos por cualquier criterio. Describir como se comporta la condición de la matriz."
      ],
      "metadata": {
        "id": "B1ItILNzXb2d"
      }
    },
    {
      "cell_type": "code",
      "source": [
        "solb = Solver_LU_Pivot_Partial(A,b)\n",
        "solc = Solver_LU_Pivot_Partial(A,c)\n",
        "sold = Solver_LU_Pivot_Partial(A,d)\n",
        "sole = Solver_LU_Pivot_Partial(A,e)\n",
        "solf = Solver_LU_Pivot_Partial(A,f)\n",
        "print(f\"La solución del sistema Ax=b es: {solb}\")\n",
        "print(f\"La solución del sistema Ax=c es: {solc}\")\n",
        "print(f\"La solución del sistema Ax=d es: {sold}\")\n",
        "print(f\"La solución del sistema Ax=e es: {sole}\")\n",
        "print(f\"La solución del sistema Ax=f es: {solf}\")"
      ],
      "metadata": {
        "colab": {
          "base_uri": "https://localhost:8080/"
        },
        "id": "P4QOCFefK-HP",
        "outputId": "a77d6001-74a4-42be-cd79-9ad13376d339"
      },
      "execution_count": null,
      "outputs": [
        {
          "output_type": "stream",
          "name": "stdout",
          "text": [
            "La solución del sistema Ax=b es: [0. 0. 0. 0. 1.]\n",
            "La solución del sistema Ax=c es: [0. 0. 0. 0. 2.]\n",
            "La solución del sistema Ax=d es: [0. 0. 0. 0. 3.]\n",
            "La solución del sistema Ax=e es: [0. 0. 0. 0. 4.]\n",
            "La solución del sistema Ax=f es: [0. 0. 0. 0. 5.]\n"
          ]
        }
      ]
    },
    {
      "cell_type": "code",
      "source": [
        "condicion = np.linalg.cond(A, p=1)\n",
        "condicion"
      ],
      "metadata": {
        "colab": {
          "base_uri": "https://localhost:8080/"
        },
        "id": "7lj1iHsYSUfV",
        "outputId": "1e26d62f-245a-4311-bb5a-6fb7372afe49"
      },
      "execution_count": null,
      "outputs": [
        {
          "output_type": "execute_result",
          "data": {
            "text/plain": [
              "np.float64(5.0)"
            ]
          },
          "metadata": {},
          "execution_count": 113
        }
      ]
    },
    {
      "cell_type": "code",
      "source": [
        "cond = condicion_matriz_norma1(A)\n",
        "cond"
      ],
      "metadata": {
        "colab": {
          "base_uri": "https://localhost:8080/"
        },
        "id": "XkvhAQ86Svcz",
        "outputId": "4cc402e3-3864-45bb-d8cd-6e1dad3e5832"
      },
      "execution_count": null,
      "outputs": [
        {
          "output_type": "execute_result",
          "data": {
            "text/plain": [
              "np.float64(5.0)"
            ]
          },
          "metadata": {},
          "execution_count": 114
        }
      ]
    },
    {
      "cell_type": "markdown",
      "source": [
        "Tenemos que la condicion de la matriz con norma 1 es 5, por lo que es relativamente baja, por lo tanto la matriz esta bien condicionada"
      ],
      "metadata": {
        "id": "TTnaWBRYYjXs"
      }
    },
    {
      "cell_type": "markdown",
      "source": [
        "# (c) Escribir una rutina que factorice la matriz (LU) con pivoteo total."
      ],
      "metadata": {
        "id": "j4rpJGJ6Yt9e"
      }
    },
    {
      "cell_type": "markdown",
      "source": [
        "Creamos 2 funciones, una para las permutaciones y otra para la solución:"
      ],
      "metadata": {
        "id": "4kn_Z6N8ZCQa"
      }
    },
    {
      "cell_type": "code",
      "source": [
        "def Permutacionestot(A, b):\n",
        "    n = A.shape[0]  # Tamaño de la matriz (n x n)\n",
        "    U = np.copy(A)  # Copia de la matriz A para no modificarla directamente\n",
        "    x = np.copy(b)  # Copia del vector b\n",
        "    P = np.eye(n)   # Matriz de permutación de filas (inicialmente identidad)\n",
        "    Q = np.eye(n)   # Matriz de permutación de columnas (inicialmente identidad)\n",
        "\n",
        "    for k in range(n - 1):\n",
        "        # --- PASO 1: Encontrar el pivote máximo en la submatriz U[k:, k:] ---\n",
        "        # np.abs(U[k:, k:]): Valores absolutos de la submatriz desde (k,k) hasta el final\n",
        "        # np.argmax(...): Índice lineal del elemento con mayor valor absoluto (en arreglo aplanado)\n",
        "        # np.unravel_index(...): Convierte el índice lineal a coordenadas (fila, columna) en la submatriz\n",
        "        max_row, max_col = np.unravel_index(np.argmax(np.abs(U[k:, k:])), (n - k, n - k))\n",
        "\n",
        "        # Ajustar índices para referenciar la posición en la matriz original U (no solo la submatriz)\n",
        "        max_row += k\n",
        "        max_col += k\n",
        "\n",
        "        # --- PASO 2: Intercambiar filas para llevar el pivote a la posición (k,k) ---\n",
        "        # Intercambia filas en U\n",
        "        U[[k, max_row]] = U[[max_row, k]]\n",
        "        # Intercambia filas en la matriz de permutación P\n",
        "        P[[k, max_row]] = P[[max_row, k]]\n",
        "        # Intercambia elementos en el vector x\n",
        "        x[[k, max_row]] = x[[max_row, k]]\n",
        "\n",
        "        # --- PASO 3: Intercambiar columnas para optimizar la factorización ---\n",
        "        # Intercambia columnas en U\n",
        "        U[:, [k, max_col]] = U[:, [max_col, k]]\n",
        "        # Intercambia columnas en la matriz de permutación Q\n",
        "        Q[:, [k, max_col]] = Q[:, [max_col, k]]\n",
        "\n",
        "    return P, Q, U, x  # Devuelve: Matrices de permutación, matriz triangular, y vector modificado\n",
        "\n",
        "def LU_tot(A,b):\n",
        "    P,Q,A_g,b_g=Permutacionestot(A,b)\n",
        "    x=LU(A_g)\n",
        "\n",
        "    return x"
      ],
      "metadata": {
        "id": "l08tKv5DZHv3"
      },
      "execution_count": null,
      "outputs": []
    },
    {
      "cell_type": "code",
      "source": [
        "L, U = LU_tot(A, b)\n",
        "print(\"Matriz L:\")\n",
        "print(L)\n",
        "print(\"\\nMatriz U:\")\n",
        "print(U)"
      ],
      "metadata": {
        "colab": {
          "base_uri": "https://localhost:8080/"
        },
        "id": "PBPVTgjmZJIT",
        "outputId": "a50998ae-6e96-4252-f86a-014d0d72c878"
      },
      "execution_count": null,
      "outputs": [
        {
          "output_type": "stream",
          "name": "stdout",
          "text": [
            "Matriz L:\n",
            "[[ 1.  0.  0.  0.  0.]\n",
            " [-1.  1.  0.  0.  0.]\n",
            " [-1. -1.  1.  0.  0.]\n",
            " [-1. -1. -1.  1.  0.]\n",
            " [-1. -1. -1. -1.  1.]]\n",
            "\n",
            "Matriz U:\n",
            "[[ 1.  0.  0.  0.  1.]\n",
            " [ 0.  1.  0.  0.  2.]\n",
            " [ 0.  0.  1.  0.  4.]\n",
            " [ 0.  0.  0.  1.  8.]\n",
            " [ 0.  0.  0.  0. 16.]]\n"
          ]
        }
      ]
    }
  ]
}