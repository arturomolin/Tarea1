{
  "nbformat": 4,
  "nbformat_minor": 0,
  "metadata": {
    "colab": {
      "provenance": [],
      "authorship_tag": "ABX9TyMofl3B9Jab3AaFLw7KdrFH",
      "include_colab_link": true
    },
    "kernelspec": {
      "name": "python3",
      "display_name": "Python 3"
    },
    "language_info": {
      "name": "python"
    }
  },
  "cells": [
    {
      "cell_type": "markdown",
      "metadata": {
        "id": "view-in-github",
        "colab_type": "text"
      },
      "source": [
        "<a href=\"https://colab.research.google.com/github/arturomolin/Tarea1/blob/main/Vector_Rotado2D.ipynb\" target=\"_parent\"><img src=\"https://colab.research.google.com/assets/colab-badge.svg\" alt=\"Open In Colab\"/></a>"
      ]
    },
    {
      "cell_type": "code",
      "execution_count": null,
      "metadata": {
        "colab": {
          "base_uri": "https://localhost:8080/"
        },
        "id": "shaiWO1jPBFg",
        "outputId": "b7b68f2d-1038-40f9-b060-6983cb1a9dd3"
      },
      "outputs": [
        {
          "output_type": "stream",
          "name": "stdout",
          "text": [
            "Ingrese las coordenadas del vector (x y): 1 1\n",
            "Ingrese el eje de rotación (x, y): x\n",
            "Ingrese el ángulo de rotación en grados: 45\n",
            "Vector rotado: [1.0, 0.7071067811865476]\n"
          ]
        }
      ],
      "source": [
        "#Importamos Math para importar las funciones\n",
        "import math\n",
        "\n",
        "#Definimos la matriz del vector,\n",
        "def multiplicar_matriz_vector(matriz, vector):\n",
        "    resultado = [0, 0]\n",
        "    for i in range(2):\n",
        "        for j in range(2):\n",
        "            resultado[i] += matriz[i][j] * vector[j]\n",
        "    return resultado\n",
        "\n",
        "#Ahora defino la matriz de rotación.\n",
        "def matriz_rotacion(eje, angulo):\n",
        "    angulo = math.radians(angulo)\n",
        "    cos_a = math.cos(angulo)\n",
        "    sin_a = math.sin(angulo)\n",
        "\n",
        "    eje = eje.strip().lower()\n",
        "\n",
        "#Aquí defini la matriz de rota ión, con respecto al eje y angulo.\n",
        "    if eje == 'x':\n",
        "        return [[1, 0, 0],\n",
        "                [0, cos_a, -sin_a],\n",
        "                [0, sin_a, cos_a]]\n",
        "    elif eje == 'y':\n",
        "        return [[cos_a, 0, sin_a],\n",
        "                [0, 1, 0],\n",
        "                [-sin_a, 0, cos_a]]\n",
        "    else:\n",
        "        raise ValueError(f\"Eje inválido: '{eje}'. Usa 'x' o 'y'\")\n",
        "\n",
        "# Le pedimos al usuario que coloque los datos correspondientes.\n",
        "vector = list(map(float, input(\"Ingrese las coordenadas del vector (x y): \").split()))\n",
        "if len(vector) != 2:\n",
        "    raise ValueError(\"El vector debe tener exactamente 2 componentes\")\n",
        "\n",
        "eje = input(\"Ingrese el eje de rotación (x, y): \").strip().lower()\n",
        "angulo = float(input(\"Ingrese el ángulo de rotación en grados: \"))\n",
        "\n",
        "# Mostramos el resultado de la rotación.\n",
        "matriz_rot = matriz_rotacion(eje, angulo)\n",
        "vector_rotado = multiplicar_matriz_vector(matriz_rot, vector)\n",
        "\n",
        "print(\"Vector rotado:\", vector_rotado)\n"
      ]
    }
  ]
}