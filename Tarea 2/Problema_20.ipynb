{
  "cells": [
    {
      "cell_type": "markdown",
      "metadata": {
        "id": "view-in-github",
        "colab_type": "text"
      },
      "source": [
        "<a href=\"https://colab.research.google.com/github/arturomolin/Tarea1/blob/main/Problema_20.ipynb\" target=\"_parent\"><img src=\"https://colab.research.google.com/assets/colab-badge.svg\" alt=\"Open In Colab\"/></a>"
      ]
    },
    {
      "cell_type": "markdown",
      "source": [
        "# Problema 20\n",
        "\n"
      ],
      "metadata": {
        "id": "t4fep48p9QCO"
      }
    },
    {
      "cell_type": "code",
      "execution_count": null,
      "metadata": {
        "id": "EN1ydItxpx6z",
        "cellView": "form"
      },
      "outputs": [],
      "source": [
        "import numpy as np\n",
        "from numpy import linalg as LA\n",
        "\n",
        "# @title Formulario\n",
        "def SustitucionDelante(Mat, b):\n",
        "    \"\"\"\n",
        "    Realiza la sustitución hacia adelante para resolver un sistema de ecuaciones lineales\n",
        "    representado por una matriz triangular inferior.\n",
        "\n",
        "    Parámetros:\n",
        "    -----------\n",
        "    Mat : numpy.ndarray\n",
        "        Una matriz triangular inferior de tamaño n x n.\n",
        "    b : numpy.ndarray\n",
        "        Un vector de términos independientes de tamaño n.\n",
        "\n",
        "    Retorna:\n",
        "    --------\n",
        "    x : numpy.ndarray\n",
        "        Un vector solución de tamaño n que satisface la ecuación Mat @ x = b.\n",
        "\n",
        "    Descripción:\n",
        "    ------------\n",
        "    Esta función resuelve un sistema de ecuaciones lineales de la forma Mat @ x = b,\n",
        "    donde Mat es una matriz triangular inferior. Utiliza el método de sustitución hacia adelante,\n",
        "    comenzando desde la primera fila de la matriz y avanzando hacia la última.\n",
        "\n",
        "    Ejemplo:\n",
        "    --------\n",
        "    >>> Mat = np.array([[1, 0, 0],\n",
        "    ...                 [2, 3, 0],\n",
        "    ...                 [4, 5, 6]])\n",
        "    >>> b = np.array([1, 8, 32])\n",
        "    >>> SustitucionDelante(Mat, b)\n",
        "    array([1., 2., 3.])\n",
        "    \"\"\"\n",
        "    n = Mat.shape[0]\n",
        "    x = np.zeros(n)\n",
        "\n",
        "    for i in range(n):\n",
        "        SumCum = 0.0\n",
        "        for j in range(i):\n",
        "            SumCum += Mat[i, j] * x[j]\n",
        "        x[i] = (b[i] - SumCum) / Mat[i, i]\n",
        "\n",
        "    return x\n",
        "\n",
        "def SustitucionAtras(Mat, b):\n",
        "    \"\"\"\n",
        "    Realiza la sustitución hacia atrás para resolver un sistema de ecuaciones lineales\n",
        "    representado por una matriz triangular superior.\n",
        "\n",
        "    Parámetros:\n",
        "    -----------\n",
        "    Mat : numpy.ndarray\n",
        "        Una matriz triangular superior de tamaño n x n.\n",
        "    b : numpy.ndarray\n",
        "        Un vector de términos independientes de tamaño n.\n",
        "\n",
        "    Retorna:\n",
        "    --------\n",
        "    x : numpy.ndarray\n",
        "        Un vector solución de tamaño n que satisface la ecuación Mat @ x = b.\n",
        "\n",
        "    Descripción:\n",
        "    ------------\n",
        "    Esta función resuelve un sistema de ecuaciones lineales de la forma Mat @ x = b,\n",
        "    donde Mat es una matriz triangular superior. Utiliza el método de sustitución hacia atrás,\n",
        "    comenzando desde la última fila de la matriz y avanzando hacia la primera.\n",
        "\n",
        "    Ejemplo:\n",
        "    --------\n",
        "    >>> Mat = np.array([[3, 2, 1],\n",
        "    ...                 [0, 2, 1],\n",
        "    ...                 [0, 0, 1]])\n",
        "    >>> b = np.array([6, 4, 1])\n",
        "    >>> SustitucionAtras(Mat, b)\n",
        "    array([1., 1., 1.])\n",
        "    \"\"\"\n",
        "    n = Mat.shape[0]\n",
        "    x = np.zeros(n)\n",
        "\n",
        "    for i in range(n-1, -1, -1):\n",
        "        SumCum = 0.0\n",
        "        for j in range(i+1, n):\n",
        "            SumCum += Mat[i, j] * x[j]\n",
        "        x[i] = (b[i] - SumCum) / Mat[i, i]\n",
        "\n",
        "    return x\n",
        "\n",
        "def LU(A):\n",
        "  U=np.copy(A)\n",
        "  L=np.eye(A.shape[0])\n",
        "\n",
        "  for i in range(A.shape[0]):\n",
        "    Li=np.eye(A.shape[0])\n",
        "    for j in range(i+1,A.shape[0]):\n",
        "      Li[j,i]=-U[j,i]/U[i,i]\n",
        "      L[j,i]=U[j,i]/U[i,i]\n",
        "    U=Li@U\n",
        "  return L,U\n",
        "\n",
        "def SolverLU(A,b):\n",
        "  L,U=LU(A)\n",
        "  # El sistema que se resuelve es Ly=b\n",
        "  y=SustitucionDelante(L, b)\n",
        "  # El sistema que se resuelve es Ux=y\n",
        "  x=SustitucionAtras(U, y)\n",
        "\n",
        "  return x"
      ]
    },
    {
      "cell_type": "markdown",
      "source": [
        "Ya cargamos el formulario con todas las fórmulas que necesitamos para este problema, ahora solo falta cargar las matrices y hacer el uso de las fórmulas"
      ],
      "metadata": {
        "id": "goIwW0Sf9Nse"
      }
    },
    {
      "cell_type": "code",
      "source": [
        "A=np.array([[2.,4.,-2.],\n",
        "            [4.,9.,-3.],\n",
        "            [-2.,-1.,7.]])\n",
        "b=np.array([2.,8.,10.])\n",
        "c=np.array([4.,8.,-6.])"
      ],
      "metadata": {
        "id": "tuKRwdPJ8lW4"
      },
      "execution_count": null,
      "outputs": []
    },
    {
      "cell_type": "markdown",
      "source": [
        "Aquí usamos la funcion SolverLU, que a partir de la matriz calcula L y U, de estos calcula la solución Ly=b y luego Ux=y"
      ],
      "metadata": {
        "id": "q3eet5v4MaAX"
      }
    },
    {
      "cell_type": "code",
      "execution_count": null,
      "metadata": {
        "colab": {
          "base_uri": "https://localhost:8080/"
        },
        "id": "fGel5vzgml1X",
        "outputId": "1741927a-bc0b-4f8b-f55a-632aa62e520d"
      },
      "outputs": [
        {
          "output_type": "execute_result",
          "data": {
            "text/plain": [
              "array([-7.,  4.,  0.])"
            ]
          },
          "metadata": {},
          "execution_count": 4
        }
      ],
      "source": [
        "Sol=SolverLU(A,b)\n",
        "Sol"
      ]
    },
    {
      "cell_type": "markdown",
      "source": [
        "Comprobamos nuestro resultado con la función de numpy"
      ],
      "metadata": {
        "id": "aeDgeYO6MUIi"
      }
    },
    {
      "cell_type": "code",
      "execution_count": null,
      "metadata": {
        "colab": {
          "base_uri": "https://localhost:8080/"
        },
        "id": "7-_5D0Tgmuo-",
        "outputId": "faba011c-15d5-4b92-c20c-05259e9c8301"
      },
      "outputs": [
        {
          "output_type": "execute_result",
          "data": {
            "text/plain": [
              "array([-7.,  4.,  0.])"
            ]
          },
          "metadata": {},
          "execution_count": 5
        }
      ],
      "source": [
        "LA.solve(A,b)"
      ]
    },
    {
      "cell_type": "markdown",
      "source": [
        "Ahora usamos la funcion LU para calcular L y U, y de aquí podemos calcular la solución Ly=b y luego Ux=y, pero esto ya lo hace la funcion SolverLU\n"
      ],
      "metadata": {
        "id": "Vz4tvcmaMWm9"
      }
    },
    {
      "cell_type": "code",
      "source": [
        "L, U = LU(A)\n",
        "print(\"L:\")\n",
        "print(L)\n",
        "print(\"U:\")\n",
        "print(U)"
      ],
      "metadata": {
        "colab": {
          "base_uri": "https://localhost:8080/"
        },
        "id": "daO4VKAj2KRk",
        "outputId": "8ffe4946-b8b3-45c6-f2e2-4a648b76d651"
      },
      "execution_count": null,
      "outputs": [
        {
          "output_type": "stream",
          "name": "stdout",
          "text": [
            "L:\n",
            "[[ 1.  0.  0.]\n",
            " [ 2.  1.  0.]\n",
            " [-1.  3.  1.]]\n",
            "U:\n",
            "[[ 2.  4. -2.]\n",
            " [ 0.  1.  1.]\n",
            " [ 0.  0.  2.]]\n"
          ]
        }
      ]
    },
    {
      "cell_type": "markdown",
      "source": [
        "Hacemos lo mismo pero ahora con c"
      ],
      "metadata": {
        "id": "M6z6ojIkMd5V"
      }
    },
    {
      "cell_type": "code",
      "execution_count": null,
      "metadata": {
        "id": "tMaVBq9frWyB",
        "colab": {
          "base_uri": "https://localhost:8080/"
        },
        "outputId": "28ff24aa-f0e2-45f8-88c8-20459ee69c18"
      },
      "outputs": [
        {
          "output_type": "execute_result",
          "data": {
            "text/plain": [
              "array([-1.,  1., -1.])"
            ]
          },
          "metadata": {},
          "execution_count": 9
        }
      ],
      "source": [
        "Sol=SolverLU(A,c)\n",
        "Sol"
      ]
    },
    {
      "cell_type": "code",
      "source": [
        "LA.solve(A,c)"
      ],
      "metadata": {
        "colab": {
          "base_uri": "https://localhost:8080/"
        },
        "id": "udeAJxBa9I0J",
        "outputId": "31a6e705-e17d-49ed-ce99-da2dbae1f6f4"
      },
      "execution_count": null,
      "outputs": [
        {
          "output_type": "execute_result",
          "data": {
            "text/plain": [
              "array([-1.,  1., -1.])"
            ]
          },
          "metadata": {},
          "execution_count": 10
        }
      ]
    }
  ],
  "metadata": {
    "colab": {
      "provenance": [],
      "include_colab_link": true
    },
    "kernelspec": {
      "display_name": "Python 3",
      "name": "python3"
    },
    "language_info": {
      "name": "python"
    }
  },
  "nbformat": 4,
  "nbformat_minor": 0
}