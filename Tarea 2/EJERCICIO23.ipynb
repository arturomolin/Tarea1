{
  "nbformat": 4,
  "nbformat_minor": 0,
  "metadata": {
    "colab": {
      "provenance": [],
      "include_colab_link": true
    },
    "kernelspec": {
      "name": "python3",
      "display_name": "Python 3"
    },
    "language_info": {
      "name": "python"
    }
  },
  "cells": [
    {
      "cell_type": "markdown",
      "metadata": {
        "id": "view-in-github",
        "colab_type": "text"
      },
      "source": [
        "<a href=\"https://colab.research.google.com/github/arturomolin/Tarea1/blob/main/EJERCICIO23.ipynb\" target=\"_parent\"><img src=\"https://colab.research.google.com/assets/colab-badge.svg\" alt=\"Open In Colab\"/></a>"
      ]
    },
    {
      "cell_type": "code",
      "execution_count": 1,
      "metadata": {
        "id": "vp-6MJ1YynRC",
        "colab": {
          "base_uri": "https://localhost:8080/"
        },
        "outputId": "40579bb3-8867-466f-aea0-cbab05b2a84e"
      },
      "outputs": [
        {
          "output_type": "stream",
          "name": "stdout",
          "text": [
            "k\tépsilon=10^(-2k)\tError relativo\tx1\t\tx2\n",
            "1\t1.00e-02\t\t6.28e-16\t1.00000000\t1.00000000\n",
            "2\t1.00e-04\t\t7.79e-14\t1.00000000\t1.00000000\n",
            "3\t1.00e-06\t\t2.03e-11\t1.00000000\t1.00000000\n",
            "4\t1.00e-08\t\t4.30e-09\t0.99999999\t1.00000000\n",
            "5\t1.00e-10\t\t5.85e-08\t1.00000008\t1.00000000\n",
            "6\t1.00e-12\t\t9.41e-05\t0.99986686\t1.00000000\n",
            "7\t1.00e-14\t\t5.65e-04\t0.99920072\t1.00000000\n",
            "8\t1.00e-16\t\t8.63e-01\t2.22044605\t1.00000000\n",
            "9\t1.00e-18\t\t7.07e-01\t0.00000000\t1.00000000\n",
            "10\t1.00e-20\t\t7.07e-01\t0.00000000\t1.00000000\n"
          ]
        }
      ],
      "source": [
        "#Nathalia\n",
        "import numpy as np\n",
        "\n",
        "def eliminacion_gaussiana_sin_pivote(matriz_A, vector_b):\n",
        "    n = len(vector_b)\n",
        "\n",
        "    # Utilizamos un for para hacer la eliminación hacia adelante\n",
        "    for i in range(n):\n",
        "        # Usamos un condicional if para la division por cero\n",
        "        if np.abs(matriz_A[i,i]) < 1e-20:\n",
        "            raise ValueError(\"Elemento diagonal cero encontrado - matriz singular\")\n",
        "\n",
        "        for j in range(i+1, n):\n",
        "            factor = matriz_A[j,i]/matriz_A[i,i]\n",
        "            matriz_A[j,:] -= factor * matriz_A[i,:]\n",
        "            vector_b[j] -= factor * vector_b[i]\n",
        "\n",
        "    # Sustitución hacia atrás\n",
        "    solucion = np.zeros(n)\n",
        "    for i in range(n-1, -1, -1):\n",
        "        solucion[i] = (vector_b[i] - np.dot(matriz_A[i,i+1:], solucion[i+1:])) / matriz_A[i,i]\n",
        "    return solucion\n",
        "\n",
        "# Definimos un rand¿go para los valores de epsilon por usar\n",
        "valores_k = range(1, 11)\n",
        "valores_epsilon = [10**(-2*k) for k in valores_k]\n",
        "\n",
        "# Sabemos que la solucion exacta es 1,1 entonces la definios\n",
        "solucion_exacta = np.array([1.0, 1.0])\n",
        "\n",
        "# Imprimimos los resultados\n",
        "print(\"k\\tépsilon=10^(-2k)\\tError relativo\\tx1\\t\\tx2\")\n",
        "\n",
        "\n",
        "for k, epsilon in zip(valores_k, valores_epsilon):\n",
        "    # Construimos el sistema con los coeficientes de la matriz\n",
        "    matriz_coeficientes = np.array([[epsilon, 1.0],\n",
        "                                  [1.0, 1.0]])\n",
        "    vector_terminos = np.array([1.0 + epsilon, 2.0])\n",
        "\n",
        "    try:\n",
        "        # Resolvemos el sistema dando una solución aproximada\n",
        "        solucion_aproximada = eliminacion_gaussiana_sin_pivote(matriz_coeficientes.copy(),\n",
        "                                                              vector_terminos.copy())\n",
        "\n",
        "        # Calculamos el error relativo\n",
        "        error_relativo = np.linalg.norm(solucion_aproximada - solucion_exacta)/np.linalg.norm(solucion_exacta)\n",
        "\n",
        "        print(f\"{k}\\t{epsilon:.2e}\\t\\t{error_relativo:.2e}\\t{solucion_aproximada[0]:.8f}\\t{solucion_aproximada[1]:.8f}\")\n",
        "    except ValueError as e:\n",
        "        print(f\"{k}\\t{epsilon:.2e}\\t\\tError: {str(e)}\")"
      ]
    }
  ]
}