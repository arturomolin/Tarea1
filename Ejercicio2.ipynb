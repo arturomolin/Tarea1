{
  "nbformat": 4,
  "nbformat_minor": 0,
  "metadata": {
    "colab": {
      "provenance": [],
      "include_colab_link": true
    },
    "kernelspec": {
      "name": "python3",
      "display_name": "Python 3"
    },
    "language_info": {
      "name": "python"
    }
  },
  "cells": [
    {
      "cell_type": "markdown",
      "metadata": {
        "id": "view-in-github",
        "colab_type": "text"
      },
      "source": [
        "<a href=\"https://colab.research.google.com/github/arturomolin/Tarea1/blob/main/Ejercicio2.ipynb\" target=\"_parent\"><img src=\"https://colab.research.google.com/assets/colab-badge.svg\" alt=\"Open In Colab\"/></a>"
      ]
    },
    {
      "cell_type": "code",
      "execution_count": null,
      "metadata": {
        "id": "iqDsxejpYAS-"
      },
      "outputs": [],
      "source": [
        "#Carlos Raul\n",
        "#Ejercicio 2\n",
        "import math\n",
        "\n",
        "def metodo_biseccion():\n",
        "    # Solicitamos los datos de entrada\n",
        "    funcion_str = input(\"Ingrese la función (en términos de x): \")\n",
        "    a = float(input(\"Ingrese el extremo izquierdo del intervalo (a): \"))\n",
        "    b = float(input(\"Ingrese el extremo derecho del intervalo (b): \"))\n",
        "    tolerancia = float(input(\"Ingrese la tolerancia: \"))\n",
        "    max_iter = int(input(\"Ingrese el número máximo de iteraciones: \"))\n",
        "\n",
        "    def f(x): #Definimos a la funcion con las operaciones matematicas de math\n",
        "        return eval(funcion_str, {'x': x, 'cos': math.cos, 'sin': math.sin, 'exp': math.exp, '**': math.pow})\n",
        "\n",
        "    # Condicionamos el rando de nuestro intervalo, si tiene signos iguales entonces nos va a arrojar un error.\n",
        "    if f(a) * f(b) >= 0:\n",
        "        print(\"Error: No hay cambio de signo en el intervalo. Revise los extremos.\")\n",
        "        if abs(f(a)) < tolerancia:\n",
        "            print(f\"Raíz exacta en x = {a}.\")\n",
        "            return a\n",
        "        elif abs(f(b)) < tolerancia:\n",
        "            print(f\"Raíz exacta en x = {b}.\")\n",
        "            return b\n",
        "        else:\n",
        "            return None\n",
        "    #Comenzamos las interaciones para encontrar la raiz exacta.\n",
        "    iteracion = 0\n",
        "    while (b - a) / 2 > tolerancia and iteracion < max_iter:\n",
        "        punto_medio = (a + b) / 2\n",
        "        if abs(f(punto_medio)) < tolerancia:\n",
        "            print(f\"Raíz exacta encontrada en x = {punto_medio} (iteración {iteracion}).\")\n",
        "            return punto_medio\n",
        "        elif f(a) * f(punto_medio) < 0:\n",
        "            b = punto_medio\n",
        "        else:\n",
        "            a = punto_medio\n",
        "        iteracion += 1\n",
        "\n",
        "    raiz = (a + b) / 2\n",
        "    print(f\"Raíz aproximada: x = {raiz} (en {iteracion} iteraciones).\")\n",
        "    return raiz\n",
        "\n",
        "metodo_biseccion()"
      ]
    },
    {
      "cell_type": "markdown",
      "source": [
        "![imagen_2025-06-05_171733827.png](data:image/png;base64,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)"
      ],
      "metadata": {
        "id": "_4pA_lHAYma0"
      }
    },
    {
      "cell_type": "code",
      "source": [
        "Ingrese la función (en términos de x): 2**x - x**2\n",
        "Ingrese el extremo izquierdo del intervalo (a): 0\n",
        "Ingrese el extremo derecho del intervalo (b): 1\n",
        "Ingrese la tolerancia: 1e-5\n",
        "Ingrese el número máximo de iteraciones: 100"
      ],
      "metadata": {
        "id": "CngYYwjoYuZL"
      },
      "execution_count": null,
      "outputs": []
    },
    {
      "cell_type": "markdown",
      "source": [
        "![image.png](data:image/png;base64,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)"
      ],
      "metadata": {
        "id": "6mR-PEN6aOIM"
      }
    },
    {
      "cell_type": "code",
      "source": [
        "Ingrese la función (en términos de x): 2*x*cos(2*x) - (x + 1)**2\n",
        "Ingrese el extremo izquierdo del intervalo (a): -3\n",
        "Ingrese el extremo derecho del intervalo (b): -2\n",
        "Ingrese la tolerancia: 1e-5\n",
        "Ingrese el número máximo de iteraciones: 100"
      ],
      "metadata": {
        "id": "RRSBtNPwaocD"
      },
      "execution_count": null,
      "outputs": []
    },
    {
      "cell_type": "code",
      "source": [
        "Ingrese la función (en términos de x): 2*x*cos(2*x) - (x + 1)**2\n",
        "Ingrese el extremo izquierdo del intervalo (a): -1\n",
        "Ingrese el extremo derecho del intervalo (b): 0\n",
        "Ingrese la tolerancia: 1e-5\n",
        "Ingrese el número máximo de iteraciones: 100"
      ],
      "metadata": {
        "id": "TcjIuUePaNiN"
      },
      "execution_count": null,
      "outputs": []
    }
  ]
}