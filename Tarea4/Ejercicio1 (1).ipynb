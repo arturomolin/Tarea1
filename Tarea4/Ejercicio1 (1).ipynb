{
  "nbformat": 4,
  "nbformat_minor": 0,
  "metadata": {
    "colab": {
      "provenance": [],
      "include_colab_link": true
    },
    "kernelspec": {
      "name": "python3",
      "display_name": "Python 3"
    },
    "language_info": {
      "name": "python"
    }
  },
  "cells": [
    {
      "cell_type": "markdown",
      "metadata": {
        "id": "view-in-github",
        "colab_type": "text"
      },
      "source": [
        "<a href=\"https://colab.research.google.com/github/arturomolin/Tarea1/blob/main/Ejercicio1.ipynb\" target=\"_parent\"><img src=\"https://colab.research.google.com/assets/colab-badge.svg\" alt=\"Open In Colab\"/></a>"
      ]
    },
    {
      "cell_type": "markdown",
      "source": [
        "# Método de bisección"
      ],
      "metadata": {
        "id": "XyNEW0qv2NwG"
      }
    },
    {
      "cell_type": "code",
      "execution_count": null,
      "metadata": {
        "id": "vQqDVr_V2G6u"
      },
      "outputs": [],
      "source": [
        "#Nathalia Ballesteros\n",
        "#Ejercicio 1\n",
        "import math\n",
        "\n",
        "def metodo_biseccion():\n",
        "    # Solicitamos los datos de entrada\n",
        "    funcion_str = input(\"Ingrese la función (en términos de x): \")\n",
        "    a = float(input(\"Ingrese el extremo izquierdo del intervalo (a): \"))\n",
        "    b = float(input(\"Ingrese el extremo derecho del intervalo (b): \"))\n",
        "    tolerancia = float(input(\"Ingrese la tolerancia: \"))\n",
        "    max_iter = int(input(\"Ingrese el número máximo de iteraciones: \"))\n",
        "\n",
        "    def f(x): #Definimos a la funcion con las operaciones matematicas de math\n",
        "        return eval(funcion_str, {'x': x, 'cos': math.cos, 'sin': math.sin, 'exp': math.exp, '**': math.pow})\n",
        "\n",
        "    # Condicionamos el rando de nuestro intervalo, si tiene signos iguales entonces nos va a arrojar un error.\n",
        "    if f(a) * f(b) >= 0:\n",
        "        print(\"Error: No hay cambio de signo en el intervalo. Revise los extremos.\")\n",
        "        if abs(f(a)) < tolerancia:\n",
        "            print(f\"Raíz exacta en x = {a}.\")\n",
        "            return a\n",
        "        elif abs(f(b)) < tolerancia:\n",
        "            print(f\"Raíz exacta en x = {b}.\")\n",
        "            return b\n",
        "        else:\n",
        "            return None\n",
        "    #Comenzamos las interaciones para encontrar la raiz exacta.\n",
        "    iteracion = 0\n",
        "    while (b - a) / 2 > tolerancia and iteracion < max_iter:\n",
        "        punto_medio = (a + b) / 2\n",
        "        if abs(f(punto_medio)) < tolerancia:\n",
        "            print(f\"Raíz exacta encontrada en x = {punto_medio} (iteración {iteracion}).\")\n",
        "            return punto_medio\n",
        "        elif f(a) * f(punto_medio) < 0:\n",
        "            b = punto_medio\n",
        "        else:\n",
        "            a = punto_medio\n",
        "        iteracion += 1\n",
        "\n",
        "    raiz = (a + b) / 2\n",
        "    print(f\"Raíz aproximada: x = {raiz} (en {iteracion} iteraciones).\")\n",
        "    return raiz\n",
        "\n",
        "metodo_biseccion()"
      ]
    },
    {
      "cell_type": "markdown",
      "source": [
        "# Método de la Secante"
      ],
      "metadata": {
        "id": "_u2bvIou2qY-"
      }
    },
    {
      "cell_type": "code",
      "source": [
        "\n",
        "#Ejercicio 1\n",
        "import math\n",
        "\n",
        "def metodo_secante():\n",
        "    # Solicitamos los datos de entrada\n",
        "    funcion_str = input(\"Ingrese la función (en términos de x): \")\n",
        "    x0 = float(input(\"Ingrese el primer punto inicial (x0): \"))\n",
        "    x1 = float(input(\"Ingrese el segundo punto inicial (x1): \"))\n",
        "    tolerancia = float(input(\"Ingrese la tolerancia: \"))\n",
        "    max_iter = int(input(\"Ingrese el número máximo de iteraciones: \"))\n",
        "\n",
        "    # Definimos la función a partir de la entrada del usuario\n",
        "    def f(x):\n",
        "        return eval(funcion_str, {'x': x, 'exp': math.exp, 'cos': math.cos, 'sin': math.sin, 'log': math.log, 'sqrt': math.sqrt})\n",
        "\n",
        "    iteracion = 0\n",
        "    while iteracion < max_iter:\n",
        "        f_x0 = f(x0)\n",
        "        f_x1 = f(x1)\n",
        "        if abs(f_x1) < tolerancia:\n",
        "            print(f\"Raíz encontrada en x = {x1} después de {iteracion} iteraciones.\")\n",
        "            return x1\n",
        "        if f_x1 - f_x0 == 0:\n",
        "            print(\"División por cero. El método no puede continuar.\")\n",
        "            return None\n",
        "        x_nuevo = x1 - f_x1 * (x1 - x0) / (f_x1 - f_x0)\n",
        "        x0, x1 = x1, x_nuevo\n",
        "        iteracion += 1\n",
        "\n",
        "    print(f\"Máximo número de iteraciones alcanzado. Última aproximación: x = {x1}\")\n",
        "    return x1\n",
        "\n",
        "metodo_secante()"
      ],
      "metadata": {
        "id": "WZQTkSR_2x2m"
      },
      "execution_count": null,
      "outputs": []
    },
    {
      "cell_type": "markdown",
      "source": [
        "# Método de Newton"
      ],
      "metadata": {
        "id": "AwQDTAxh2-7X"
      }
    },
    {
      "cell_type": "code",
      "source": [
        "#Ejercicio 1\n",
        "def metodo_newton():\n",
        "    # Solicitamos los datos de entrada\n",
        "    funcion_str = input(\"Ingrese la función (en términos de x): \")\n",
        "    derivada_str = input(\"Ingrese la derivada de la función (en términos de x): \")\n",
        "    x0 = float(input(\"Ingrese el punto inicial (x0): \"))\n",
        "    tolerancia = float(input(\"Ingrese la tolerancia: \"))\n",
        "    max_iter = int(input(\"Ingrese el número máximo de iteraciones: \"))\n",
        "\n",
        "    # Definimos la función y su derivada a partir de la entrada del usuario\n",
        "    def f(x):\n",
        "        return eval(funcion_str)\n",
        "    def df(x):\n",
        "        return eval(derivada_str)\n",
        "\n",
        "    iteracion = 0\n",
        "    while iteracion < max_iter:\n",
        "        f_x0 = f(x0)\n",
        "        df_x0 = df(x0)\n",
        "        if abs(f_x0) < tolerancia:\n",
        "            print(f\"Raíz encontrada en x = {x0} después de {iteracion} iteraciones.\")\n",
        "            return x0\n",
        "        if df_x0 == 0:\n",
        "            print(\"Derivada cero. El método no puede continuar.\")\n",
        "            return None\n",
        "        x_nuevo = x0 - f_x0 / df_x0\n",
        "        x0 = x_nuevo\n",
        "        iteracion += 1\n",
        "\n",
        "    print(f\"Máximo número de iteraciones alcanzado. Última aproximación: x = {x0}\")\n",
        "    return x0\n",
        "\n",
        "metodo_newton()"
      ],
      "metadata": {
        "id": "n8WObv-o3DNi"
      },
      "execution_count": null,
      "outputs": []
    }
  ]
}