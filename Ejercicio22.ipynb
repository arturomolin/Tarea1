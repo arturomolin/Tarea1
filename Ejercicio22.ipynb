{
  "nbformat": 4,
  "nbformat_minor": 0,
  "metadata": {
    "colab": {
      "provenance": [],
      "authorship_tag": "ABX9TyNWRCT6GQhTlFip63aE3T3E",
      "include_colab_link": true
    },
    "kernelspec": {
      "name": "python3",
      "display_name": "Python 3"
    },
    "language_info": {
      "name": "python"
    }
  },
  "cells": [
    {
      "cell_type": "markdown",
      "metadata": {
        "id": "view-in-github",
        "colab_type": "text"
      },
      "source": [
        "<a href=\"https://colab.research.google.com/github/arturomolin/Tarea1/blob/main/Ejercicio22.ipynb\" target=\"_parent\"><img src=\"https://colab.research.google.com/assets/colab-badge.svg\" alt=\"Open In Colab\"/></a>"
      ]
    },
    {
      "cell_type": "code",
      "execution_count": 1,
      "metadata": {
        "id": "TUUZMJ7tsybK",
        "colab": {
          "base_uri": "https://localhost:8080/"
        },
        "outputId": "230b954c-afa8-40b9-ad0b-652280fcdb8f"
      },
      "outputs": [
        {
          "output_type": "stream",
          "name": "stdout",
          "text": [
            "Cond(A) = 1.6180\n",
            "=> La matriz A está bien condicionada.\n",
            "\n",
            "Resultados para 1 / cos(θ_i):\n",
            "MR (16): 1/cos(θ) = 3.5000\n",
            "Ecuaciones normales (17): 1/cos(θ) = 3.1721\n",
            "Householder (18): 1/cos(θ) = 3.1721\n",
            "Givens (19): 1/cos(θ) = 1.9455\n",
            "Gram-Schmidt (20): 1/cos(θ) = 3.1721\n"
          ]
        }
      ],
      "source": [
        "#Ejercicio 22\n",
        "import numpy as np\n",
        "\n",
        "# Definimos la matriz A y el vector b del sistema, la que esta en el pdf\n",
        "A = np.array([\n",
        "    [1, 1],\n",
        "    [-1, 0],\n",
        "    [0, 1],\n",
        "    [1, 0]\n",
        "], dtype=float)\n",
        "\n",
        "b = np.array([-1, 2, -1, 1], dtype=float)\n",
        "\n",
        "# Ya di de una vez las soluciones x_i desde los incisos 16 al 20, que se hicieron en los ejercicios anteriores.\n",
        "soluciones = {\n",
        "    \"MR (16)\": np.array([-1, 2, 1, -2], dtype=float),\n",
        "    \"Ecuaciones normales (17)\": np.array([-6/5, 2/5, -4/5, -2/5], dtype=float),\n",
        "    \"Householder (18)\": np.array([-6/5, 2/5, -4/5, -2/5], dtype=float),\n",
        "    \"Givens (19)\": np.array([12581/5000, 4419/5000, 17/5, -4419/5000], dtype=float),\n",
        "    \"Gram-Schmidt (20)\": np.array([-6/5, 2/5, -4/5, -2/5], dtype=float)\n",
        "}\n",
        "\n",
        "#Hacemos todos los calculos correspondientes.\n",
        "# a) Calculamos el número de condición de A (con norma 2 por default)\n",
        "condicion = np.linalg.cond(A)\n",
        "\n",
        "print(f\"Cond(A) = {condicion:.4f}\")\n",
        "if condicion < 100:\n",
        "    print(\"=> La matriz A está bien condicionada.\")\n",
        "else:\n",
        "    print(\"=> La matriz A está mal condicionada.\")\n",
        "\n",
        "print(\"\\nResultados para 1 / cos(θ_i):\")\n",
        "\n",
        "# b) Calculamos 1 / cos(theta_i) para cada solución\n",
        "for metodo, xi in soluciones.items():\n",
        "    Ax = A @ xi[:2]  # Solo usamos los dos primeros valores porque A es de 4x2\n",
        "    numerador = np.linalg.norm(b) * np.linalg.norm(Ax)\n",
        "    denominador = np.abs(np.dot(b, Ax))\n",
        "    uno_sobre_cos = numerador / denominador\n",
        "    print(f\"{metodo}: 1/cos(θ) = {uno_sobre_cos:.4f}\")\n"
      ]
    }
  ]
}