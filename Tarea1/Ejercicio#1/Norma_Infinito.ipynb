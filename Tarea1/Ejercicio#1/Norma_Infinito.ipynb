{
  "nbformat": 4,
  "nbformat_minor": 0,
  "metadata": {
    "colab": {
      "provenance": [],
      "authorship_tag": "ABX9TyMKF00KuwJ7sxFCEAc4R3FN",
      "include_colab_link": true
    },
    "kernelspec": {
      "name": "python3",
      "display_name": "Python 3"
    },
    "language_info": {
      "name": "python"
    }
  },
  "cells": [
    {
      "cell_type": "markdown",
      "metadata": {
        "id": "view-in-github",
        "colab_type": "text"
      },
      "source": [
        "<a href=\"https://colab.research.google.com/github/arturomolin/Tarea1/blob/main/Norma_Infinito.ipynb\" target=\"_parent\"><img src=\"https://colab.research.google.com/assets/colab-badge.svg\" alt=\"Open In Colab\"/></a>"
      ]
    },
    {
      "cell_type": "code",
      "execution_count": null,
      "metadata": {
        "colab": {
          "base_uri": "https://localhost:8080/"
        },
        "id": "WuC5sPwdKK1h",
        "outputId": "1cea3ae5-893c-4432-ff7f-94a293d76d83"
      },
      "outputs": [
        {
          "output_type": "stream",
          "name": "stdout",
          "text": [
            "Ingrese el número de filas: 3\n",
            "Ingrese el número de columnas: 3\n",
            "Ingrese los elementos de la fila 1 separados por espacio: 1 2 2\n",
            "Ingrese los elementos de la fila 2 separados por espacio: 1 2 2\n",
            "Ingrese los elementos de la fila 3 separados por espacio: 1 2 2\n",
            "Norma infinito de la matriz: 5\n"
          ]
        }
      ],
      "source": [
        "#Al igual que los otros ejercicios vamos a definir la norma infinito.\n",
        "def norma_infinito(matriz):\n",
        "    if not matriz or not matriz[0]:\n",
        "        raise ValueError(\"La matriz no puede estar vacía\")\n",
        "\n",
        "    filas = len(matriz)\n",
        "\n",
        "    max_suma_fila = 0\n",
        "\n",
        "    for i in range(filas):  # Iteramos sobre filas\n",
        "        suma_fila = sum(abs(x) for x in matriz[i])  # Sumamos valores absolutos de la fila\n",
        "\n",
        "        if suma_fila > max_suma_fila:\n",
        "            max_suma_fila = suma_fila\n",
        "\n",
        "    return max_suma_fila\n",
        "\n",
        "# Igualmente pedimos la matriz al usuario\n",
        "filas = int(input(\"Ingrese el número de filas: \"))\n",
        "columnas = int(input(\"Ingrese el número de columnas: \"))\n",
        "\n",
        "  #Aquí, solo cree una función para ingresar los números de la matriz dada.\n",
        "matriz = []\n",
        "for i in range(filas):\n",
        "    fila = list(map(int, input(f\"Ingrese los elementos de la fila {i+1} separados por espacio: \").split()))\n",
        "    if len(fila) != columnas:\n",
        "        raise ValueError(\"El número de elementos en la fila no coincide con el número de columnas especificado\")\n",
        "    matriz.append(fila)\n",
        "\n",
        "#Imprimo el resultado.\n",
        "resultado = norma_infinito(matriz)\n",
        "print(\"Norma infinito de la matriz:\", resultado)"
      ]
    }
  ]
}