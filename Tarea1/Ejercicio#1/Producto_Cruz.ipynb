{
  "nbformat": 4,
  "nbformat_minor": 0,
  "metadata": {
    "colab": {
      "provenance": [],
      "authorship_tag": "ABX9TyMEj/HFRszivTpP/YNxpOoQ",
      "include_colab_link": true
    },
    "kernelspec": {
      "name": "python3",
      "display_name": "Python 3"
    },
    "language_info": {
      "name": "python"
    }
  },
  "cells": [
    {
      "cell_type": "markdown",
      "metadata": {
        "id": "view-in-github",
        "colab_type": "text"
      },
      "source": [
        "<a href=\"https://colab.research.google.com/github/arturomolin/Tarea1/blob/main/Producto_Cruz.ipynb\" target=\"_parent\"><img src=\"https://colab.research.google.com/assets/colab-badge.svg\" alt=\"Open In Colab\"/></a>"
      ]
    },
    {
      "cell_type": "code",
      "execution_count": 1,
      "metadata": {
        "colab": {
          "base_uri": "https://localhost:8080/"
        },
        "id": "p-7GSJhW8QOY",
        "outputId": "b098920e-d4ee-44be-8e27-3dca963163e8"
      },
      "outputs": [
        {
          "output_type": "stream",
          "name": "stdout",
          "text": [
            "Ingrese los valores del vector v1 separados por espacios:\n",
            "1 2 2\n",
            "Ingrese los valores del vector v2 separados por espacios:\n",
            "2 1 1\n",
            "El producto cruz de los vectores es: [0, 3, -3]\n"
          ]
        }
      ],
      "source": [
        "#Definimos la función del producto cruz.\n",
        "def producto_cruz(v1, v2):\n",
        "    if len(v1) != 3 or len(v2) != 3:\n",
        "        raise ValueError(\"Ambos vectores deben ser tridimensionales\")\n",
        "\n",
        "    #Aquí implementamos como es el producto de vectores con producto cruz.\n",
        "    x = v1[1] * v2[2] - v1[2] * v2[1]\n",
        "    y = v1[2] * v2[0] - v1[0] * v2[2]\n",
        "    z = v1[0] * v2[1] - v1[1] * v2[0]\n",
        "\n",
        "    return [x, y, z]\n",
        "\n",
        "# Le pedimos al usuario que meta los vectores que quiere calcular.\n",
        "def leer_vector(nombre):\n",
        "    print(f\"Ingrese los valores del vector {nombre} separados por espacios:\")\n",
        "    return list(map(int, input().split()))\n",
        "\n",
        "v1 = leer_vector(\"v1\")\n",
        "v2 = leer_vector(\"v2\")\n",
        "\n",
        "#Imprimimos el resultado.\n",
        "resultado = producto_cruz(v1, v2)\n",
        "print(\"El producto cruz de los vectores es:\", resultado)"
      ]
    }
  ]
}