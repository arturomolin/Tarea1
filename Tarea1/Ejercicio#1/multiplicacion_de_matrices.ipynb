{
  "nbformat": 4,
  "nbformat_minor": 0,
  "metadata": {
    "colab": {
      "provenance": [],
      "include_colab_link": true
    },
    "kernelspec": {
      "name": "python3",
      "display_name": "Python 3"
    },
    "language_info": {
      "name": "python"
    }
  },
  "cells": [
    {
      "cell_type": "markdown",
      "metadata": {
        "id": "view-in-github",
        "colab_type": "text"
      },
      "source": [
        "<a href=\"https://colab.research.google.com/github/arturomolin/Tarea1/blob/main/multiplicacion_de_matrices.ipynb\" target=\"_parent\"><img src=\"https://colab.research.google.com/assets/colab-badge.svg\" alt=\"Open In Colab\"/></a>"
      ]
    },
    {
      "cell_type": "code",
      "execution_count": null,
      "metadata": {
        "colab": {
          "base_uri": "https://localhost:8080/"
        },
        "id": "OHCE-yA-DR0A",
        "outputId": "f4013bf2-95c3-4897-9464-0aa81fe71bee"
      },
      "outputs": [
        {
          "output_type": "stream",
          "name": "stdout",
          "text": [
            "Ingresa el numero de filas de la primera matriz: 2\n",
            "Ingresa el numero de columnas de la primera matriz: 2\n",
            "Ingresa el numero de columnas de la segunda matriz: 2\n",
            "Ingresa el tamaño del bloque: 2\n",
            "Ingresa la primera matriz:\n",
            "Ingresa los elementos de la matriz (2x2) fila por fila, separando por espacios cada elemento de la fila:\n",
            "1 2\n",
            "1 2\n",
            "Ingrese la segunda matriz:\n",
            "Ingresa los elementos de la matriz (2x2) fila por fila, separando por espacios cada elemento de la fila:\n",
            "1 2\n",
            "1 2\n",
            "Tiempo de multiplicacion convencional o por triple bucle anidado: 0.000015 segundos\n",
            "Tiempo de multiplicacion por bloques: 0.000012 segundos\n",
            "La matriz resultadoado (multiplicación por bloques) es:\n",
            "3 6\n",
            "3 6\n"
          ]
        }
      ],
      "source": [
        "import time  # Se importa para medir los tiempos de la ejecucion\n",
        "\n",
        "# se establece la siguinete funcion para leer la matriz desde la entrada del usuario\n",
        "def leer_matriz(filas, columnas):\n",
        "  # se da el mensaje al usuario de ingresar la matriz fila por fila\n",
        "    print(f\"Ingresa los elementos de la matriz ({filas}x{columnas}) fila por fila, separando por espacios cada elemento de la fila:\")\n",
        "    return [list(map(int, input().split())) for _ in range(filas)]\n",
        "    #input().split() va a leer la linea de entrada que el usuario da y la pondra en una lista de tipo strings\n",
        "    #map(int, ...) se encarga de convertir cada elemento de la lista en un numero entero int\n",
        "    #list(...)se encarga de convertir el resultadoado en una lista de enteros representando una fila de la matriz.\n",
        "    #for _ in range(filas)` hace que se repita este proceso para cada fila de la matriz\n",
        "\n",
        "# se establece la siguinete funcion para la multiplicacion de matrices\n",
        "def multiplicacion_convencional(A, B):\n",
        "    filas_A, columnas_A = len(A), len(A[0])  # se definen las dimensiones de la primera matriz\n",
        "    filas_B, columnas_B = len(B), len(B[0])  # se definen las dimensiones de la segunda matriz\n",
        "\n",
        "    # se comprueba si la multiplicacion es valida viendo si el numero de columnas\n",
        "    #de la primera matriz es igual al numero de filas de la segunda matriz\n",
        "    if columnas_A != filas_B:\n",
        "        raise ValueError(\"Las dimensiones de las matrices impiden hacer la multiplicacion\")\n",
        "\n",
        "    # Inicia la matriz resultadoado con ceros de dimencion (filas_A x columnas_B)\n",
        "    resultado = [[0] * columnas_B for _ in range(filas_A)]\n",
        "\n",
        "    # aqui se define la multiplicacion de matrices con un triple bucle anidado\n",
        "    for i in range(filas_A): #recorre las filas de la primera matriz\n",
        "        for j in range(columnas_B): #recorre las columnas de la segunda matriz\n",
        "            for k in range(columnas_A): # Recorre elementos de la fila de la primera matriz y la columna de la segunda matriz\n",
        "                resultado[i][j] += A[i][k] * B[k][j] # Realiza la multiplicacion y la acumula en la matriz resultadoado\n",
        "    #notece que la complejidad de este metodo es O(n³) haciendolo algo inefisiente para matrices muy muy grandes\n",
        "    # y es aqui donde la multiplicacion por bloques le gane siendo mucho mas optima\n",
        "    return resultado\n",
        "\n",
        "#se define la funcion de la multiplicacion de matrices por bloques\n",
        "def multiplicacion_de_bloques(A, B, tamaño_bloque):\n",
        "    filas_A, columnas_A = len(A), len(A[0])   # se definen las dimensiones de la primera matriz\n",
        "    filas_B, columnas_B = len(B), len(B[0])   # se definen las dimensiones de la segunda matriz\n",
        "\n",
        "    # se comprueba si la multiplicacion es valida viendo si el numero de columnas\n",
        "    #de la primera matriz es igual al numero de filas de la segunda matriz\n",
        "    if columnas_A != filas_B:\n",
        "        raise ValueError(\"Las dimensiones de las matrices no permiten hacer la multiplicacion\")\n",
        "\n",
        "    # Inicia la matriz resultadoado con ceros de dimencion (filas_A x columnas_B)\n",
        "    resultado = [[0] * columnas_B for _ in range(filas_A)]\n",
        "\n",
        "    # aqui se define la multiplicacion de matrices usando el metodo de bloques\n",
        "    # donde se recorren las matrices en bloques de tamaño\n",
        "    for i in range(0, filas_A, tamaño_bloque):  # se itera sobre las filas de la primera matriz en bloques\n",
        "        for j in range(0, columnas_B, tamaño_bloque): # se itera sobre las columnas de la segunda matriz en bloques\n",
        "            for k in range(0, columnas_A, tamaño_bloque): # se itera sobre las columnas de la primera matriz menos\n",
        "            #las filas de la segunda matriz en bloques y se hace la multiplicacion de los bloques individuales\n",
        "                for ii in range(i, min(i + tamaño_bloque, filas_A)): #se itera dentro del bloque de filas de la primera matriz\n",
        "                    for jj in range(j, min(j + tamaño_bloque, columnas_B)): # se itera dentro del bloque de columnas de la segunda matriz\n",
        "                        for kk in range(k, min(k + tamaño_bloque, columnas_A)): # se itera dentro del bloque de columnas de la primera matriz\n",
        "                            resultado[ii][jj] += A[ii][kk] * B[kk][jj]  # se acumulan el resultadoado de los bloques multiplicados\n",
        "    return resultado\n",
        "\n",
        "#se define la funcion para compararm los tiempos de las ejecuciones por bloques y por el anidado es la forma convencional\n",
        "def comparar_tiempo_de_ejecucion():\n",
        "    # se pide al usuario de las dimensiones de las matrices y el tamaño del bloque y lo guarda en un entero int\n",
        "    filas_A = int(input(\"Ingresa el numero de filas de la primera matriz: \"))\n",
        "    columnas_A = int(input(\"Ingresa el numero de columnas de la primera matriz: \"))\n",
        "    filas_B = columnas_A   # se comprueba si la multiplicacion es valida viendo si el numero de columnas\n",
        "    #de la primera matriz es igual al numero de filas de la segunda matriz\n",
        "    columnas_B = int(input(\"Ingresa el numero de columnas de la segunda matriz: \"))\n",
        "    tamaño_bloque = int(input(\"Ingresa el tamaño del bloque: \"))\n",
        "\n",
        "    # se leen los datos de las matrices desde la entrada del usuario\n",
        "    print(\"Ingresa la primera matriz:\")\n",
        "    A = leer_matriz(filas_A, columnas_A) # se lee la primera matriz\n",
        "    print(\"Ingrese la segunda matriz:\")\n",
        "    B = leer_matriz(filas_B, columnas_B) # se lee la segunda matriz\n",
        "\n",
        "    # se mide el tiempo de ejecucion de la multiplicacion por bucle\n",
        "    inicio = time.time() # se registra el tiempo de inicio\n",
        "    resultado_convencional = multiplicacion_convencional(A, B) # se realiza la multiplicacion por bucle\n",
        "    tiempo_convencional = time.time() - inicio # se calcula el tiempo que paso con la resta\n",
        "\n",
        "    # se mide el tiempo de la multiplicacion por bloques\n",
        "    inicio = time.time() # se registra el tiempo de inicio\n",
        "    resultado_bloqueultado = multiplicacion_de_bloques(A, B, tamaño_bloque) # se realiza la multiplicacion por bloques\n",
        "    tiempo_bloque = time.time() - inicio # se calcula el tiempo que paso con la resta\n",
        "\n",
        "    # se imprimen los tiempos de las dos ejecuciones\n",
        "    print(f\"Tiempo de multiplicacion convencional o por triple bucle anidado: {tiempo_convencional:.6f} segundos\")\n",
        "    print(f\"Tiempo de multiplicacion por bloques: {tiempo_bloque:.6f} segundos\")\n",
        "\n",
        "    # se muestra la matriz resultadoado de la multiplicación por bloques\n",
        "    print(\"La matriz resultadoado (multiplicación por bloques) es:\")\n",
        "    for fila in resultado_bloqueultado: # se recorre cada fila de la matriz resultadoado\n",
        "        print(\" \".join(map(str, fila))) # se imprime cada fila como una cadena de numeros separados por espacios\n",
        "\n",
        "\n",
        "comparar_tiempo_de_ejecucion()\n",
        "\n",
        "\n"
      ]
    }
  ]
}