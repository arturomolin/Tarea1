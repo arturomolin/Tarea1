{
  "nbformat": 4,
  "nbformat_minor": 0,
  "metadata": {
    "colab": {
      "provenance": [],
      "authorship_tag": "ABX9TyNdkUn0/uPrHhI6/GJRV03x",
      "include_colab_link": true
    },
    "kernelspec": {
      "name": "python3",
      "display_name": "Python 3"
    },
    "language_info": {
      "name": "python"
    }
  },
  "cells": [
    {
      "cell_type": "markdown",
      "metadata": {
        "id": "view-in-github",
        "colab_type": "text"
      },
      "source": [
        "<a href=\"https://colab.research.google.com/github/arturomolin/Tarea1/blob/main/Norma_2.ipynb\" target=\"_parent\"><img src=\"https://colab.research.google.com/assets/colab-badge.svg\" alt=\"Open In Colab\"/></a>"
      ]
    },
    {
      "cell_type": "code",
      "execution_count": null,
      "metadata": {
        "id": "k8NijhQWLWce"
      },
      "outputs": [],
      "source": [
        "#Definimos la norma para establecer la matriz.\n",
        "import math\n",
        "\n",
        "#Hacemos la función para definir la matriz, donde pongo la restricción para que no este vacía.\n",
        "def norma_cuadrada(matriz):\n",
        "    if not matriz or not matriz[0]:\n",
        "        raise ValueError(\"La matriz no puede estar vacía\")\n",
        "\n",
        "#Como se define la norma cuadrada, vamos a sumar cuadrados.\n",
        "    suma_cuadrados = 0\n",
        "\n",
        "    for fila in matriz:\n",
        "        for elemento in fila:\n",
        "            suma_cuadrados += elemento ** 2\n",
        "\n",
        "    return math.sqrt(suma_cuadrados)\n",
        "\n",
        "# Ocupo la función de pedirle las matrices al usuario.\n",
        "filas = int(input(\"Ingrese el número de filas: \"))\n",
        "columnas = int(input(\"Ingrese el número de columnas: \"))\n",
        "\n",
        "#Aquí le pido que al usuario que ponga los datos de la matriz.\n",
        "matriz = []\n",
        "for i in range(filas):\n",
        "    fila = list(map(int, input(f\"Ingrese los elementos de la fila {i+1} separados por espacio: \").split()))\n",
        "    if len(fila) != columnas:\n",
        "        raise ValueError(\"El número de elementos en la fila no coincide con el número de columnas especificado\")\n",
        "    matriz.append(fila)\n",
        "\n",
        "\n",
        "#Imprimo el resultado de la matriz.\n",
        "resultado = norma_cuadrada(matriz)\n",
        "print(\"Norma cuadrada de la matriz:\", resultado)"
      ]
    }
  ]
}