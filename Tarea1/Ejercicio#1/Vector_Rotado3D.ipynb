{
  "nbformat": 4,
  "nbformat_minor": 0,
  "metadata": {
    "colab": {
      "provenance": [],
      "authorship_tag": "ABX9TyMlRZIXFUuWGpy4qJNJHcvL",
      "include_colab_link": true
    },
    "kernelspec": {
      "name": "python3",
      "display_name": "Python 3"
    },
    "language_info": {
      "name": "python"
    }
  },
  "cells": [
    {
      "cell_type": "markdown",
      "metadata": {
        "id": "view-in-github",
        "colab_type": "text"
      },
      "source": [
        "<a href=\"https://colab.research.google.com/github/arturomolin/Tarea1/blob/main/Vector_Rotado3D.ipynb\" target=\"_parent\"><img src=\"https://colab.research.google.com/assets/colab-badge.svg\" alt=\"Open In Colab\"/></a>"
      ]
    },
    {
      "cell_type": "code",
      "execution_count": null,
      "metadata": {
        "id": "uqCdTlD-OEEj",
        "outputId": "b52d817d-18b0-459d-c037-9bedcde30bfb",
        "colab": {
          "base_uri": "https://localhost:8080/"
        }
      },
      "outputs": [
        {
          "output_type": "stream",
          "name": "stdout",
          "text": [
            "Ingrese las coordenadas del vector (x y z): 1 2 2\n",
            "Ingrese el eje de rotación (x, y, z): z\n",
            "Ingrese el ángulo de rotación en grados: 90\n",
            "Vector rotado: [-2.0, 1.0000000000000002, 2.0]\n"
          ]
        }
      ],
      "source": [
        "#Importamos Math para importar las funciones\n",
        "import math\n",
        "\n",
        "def multiplicar_matriz_vector(matriz, vector):\n",
        "    resultado = [0, 0, 0]\n",
        "    for i in range(3):\n",
        "        for j in range(3):\n",
        "            resultado[i] += matriz[i][j] * vector[j]\n",
        "    return resultado\n",
        "\n",
        "#Aquí defini la matriz de rota ión, con respecto al eje y angulo.\n",
        "# ocupe entidades trigonometricas.\n",
        "def matriz_rotacion(eje, angulo):\n",
        "    angulo = math.radians(angulo)\n",
        "    cos_a = math.cos(angulo)\n",
        "    sin_a = math.sin(angulo)\n",
        "\n",
        "    eje = eje.strip().lower()\n",
        "\n",
        "    if eje == 'x':\n",
        "        return [[1, 0, 0],\n",
        "                [0, cos_a, -sin_a],\n",
        "                [0, sin_a, cos_a]]\n",
        "    elif eje == 'y':\n",
        "        return [[cos_a, 0, sin_a],\n",
        "                [0, 1, 0],\n",
        "                [-sin_a, 0, cos_a]]\n",
        "    elif eje == 'z':\n",
        "        return [[cos_a, -sin_a, 0],\n",
        "                [sin_a, cos_a, 0],\n",
        "                [0, 0, 1]]\n",
        "    else:\n",
        "        raise ValueError(f\"Eje inválido: '{eje}'. Usa 'x', 'y' o 'z'\")\n",
        "\n",
        "# Le pido al usuario que coloque el vector a calcular\n",
        "#Es importante notar que\n",
        "vector = list(map(float, input(\"Ingrese las coordenadas del vector (x y z): \").split()))\n",
        "if len(vector) != 3:\n",
        "    raise ValueError(\"El vector debe tener exactamente 3 componentes\")\n",
        "\n",
        "#Aquí el usuario solo debe poner la componente a rotar, es decir:\n",
        "# x,y,z solo una de esas.\n",
        "eje = input(\"Ingrese el eje de rotación (x, y, z): \").strip().lower()\n",
        "angulo = float(input(\"Ingrese el ángulo de rotación en grados: \"))\n",
        "\n",
        "#Calculamos aquí la rotación del vector.\n",
        "matriz_rot = matriz_rotacion(eje, angulo)\n",
        "vector_rotado = multiplicar_matriz_vector(matriz_rot, vector)\n",
        "\n",
        "print(\"Vector rotado:\", vector_rotado)\n"
      ]
    }
  ]
}