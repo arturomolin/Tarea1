{
  "cells": [
    {
      "cell_type": "markdown",
      "metadata": {
        "id": "view-in-github",
        "colab_type": "text"
      },
      "source": [
        "<a href=\"https://colab.research.google.com/github/arturomolin/Tarea1/blob/main/suma_de_matrices.ipynb\" target=\"_parent\"><img src=\"https://colab.research.google.com/assets/colab-badge.svg\" alt=\"Open In Colab\"/></a>"
      ]
    },
    {
      "cell_type": "code",
      "execution_count": null,
      "metadata": {
        "colab": {
          "base_uri": "https://localhost:8080/"
        },
        "id": "uQHGLTsjeLU9",
        "outputId": "d30811a6-10a0-4ff6-f4d6-077b692b4279"
      },
      "outputs": [
        {
          "output_type": "stream",
          "name": "stdout",
          "text": [
            "Ingresa el numero de filas de la primera matriz: 2\n",
            "Ingresa el numero de columnas de la primera matriz: 2\n",
            "Ingresa el numero de filas de la segunda matriz: 2\n",
            "Ingresa el numero de columnas de la segunda matriz: 2\n",
            "Ingrese el tamaño del bloque: 2\n",
            "Ingresa los elementos de la matriz 2x2, fila por fila separando cada elemnto por espacios:\n",
            "1 2\n",
            "1 2\n",
            "Ingresa los elementos de la matriz 2x2, fila por fila separando cada elemnto por espacios:\n",
            "1 2\n",
            "1 2\n",
            "la matriz resultante de la suma es :\n",
            "[2, 4]\n",
            "[2, 4]\n",
            "\n"
          ]
        }
      ],
      "source": [
        "def matriz_obtenida(filas, columnas):\n",
        "    #se solicita al usuario que ingrese una matriz de tamaño filas x columnas\n",
        "    print(f\"Ingresa los elementos de la matriz {filas}x{columnas}, fila por fila separando cada elemnto por espacios:\")\n",
        "    return [[int(x) for x in input().split()] for _ in range(filas)]\n",
        "    # se lee la matriz de tamaño filas x columnas del usuario y la devulve como una lista de listas\n",
        "    #se convierte cada elemento de la lista de cadenas en un número entero donde para cada fila ingresada se genera una lista de enteros\n",
        "def suma_matrices_por_bloque(A, B, tamaño_bloque):\n",
        "    filas, columnas = len(A), len(A[0]) # se obtiene el numero de filas y columnas de la primera matriz\n",
        "    C = [[0] * columnas for _ in range(filas)]  # se inicia la matriz resultado\n",
        "    # se recorre la matriz en bloques de tamaño tamaño_bloque pedido al usuario\n",
        "    for i in range(0, filas, tamaño_bloque): # se recorre la matriz en bloques de tamaño tamaño_bloque en las filas\n",
        "        for j in range(0, columnas, tamaño_bloque): # se recorre la matriz en bloques de tamaño tamaño_bloque en las columnas\n",
        "            for bi in range(i, min(i + tamaño_bloque, filas)):  # se itera dentro del bloque actual recorriendo sus filas\n",
        "                for bj in range(j, min(j + tamaño_bloque, columnas)): # se itera dentro del bloque actual recorriendo sus columnas\n",
        "                    C[bi][bj] = A[bi][bj] + B[bi][bj]  # se hace la suma de los elementos de la primera matriz y la segunda matriz\n",
        "                    #dentro del bloque definido y los guarda en C\n",
        "    return C\n",
        "\n",
        "def matriz_i(M):\n",
        "    for fila in M: # se recorre cada fila de la matriz\n",
        "        print(fila) # se imprime la fila completa\n",
        "    print() # se imprime una linea en blanco por estetica\n",
        "# se pide el tamaño de las matrices\n",
        "filas_A = int(input(\"Ingresa el numero de filas de la primera matriz: \"))\n",
        "# se lee el numero de filas de la primera matriz\n",
        "columnas_A = int(input(\"Ingresa el numero de columnas de la primera matriz: \"))\n",
        "# se lee el numero de columnas de la segunda matriz\n",
        "filas_B = int(input(\"Ingresa el numero de filas de la segunda matriz: \"))\n",
        "# se lee el numero de filas de la segunda matriz\n",
        "columnas_B = int(input(\"Ingresa el numero de columnas de la segunda matriz: \"))\n",
        "# se lee el numero de columnas de la segunda matriz\n",
        "\n",
        "# Se verifica si las matrices tienen el mismo tamaño antes de sumarlas\n",
        "if filas_A != filas_B or columnas_A != columnas_B: # se verifica que las filas sean del mismo tamaño y las columnas tambien\n",
        "    print(\"Error: Las matrices dadas no son del mismo tamaño y por ende no se pueden sumar.\")\n",
        "else:\n",
        "    tamaño_bloque = int(input(\"Ingrese el tamaño del bloque: \"))\n",
        "     # si el tamaño coincide se pide al usuario de el tamaño del bloque para hacer la suma por bloques\n",
        "    A = matriz_obtenida(filas_A, columnas_A)# se guarda la primera matriz ingresada por el usuario\n",
        "    B = matriz_obtenida(filas_B, columnas_B)# se guarda la segunda matriz ingresada por el usuario\n",
        "    C = suma_matrices_por_bloque(A, B, tamaño_bloque)# se guarda la  matriz de suma por bloques\n",
        "    print(\"la matriz resultante de la suma es :\")\n",
        "    matriz_i(C) # se imprime la matriz resultante de la suma por bloques\n"
      ]
    }
  ],
  "metadata": {
    "colab": {
      "provenance": [],
      "include_colab_link": true
    },
    "kernelspec": {
      "display_name": "Python 3",
      "name": "python3"
    },
    "language_info": {
      "name": "python"
    }
  },
  "nbformat": 4,
  "nbformat_minor": 0
}