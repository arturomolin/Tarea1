{
  "nbformat": 4,
  "nbformat_minor": 0,
  "metadata": {
    "colab": {
      "provenance": [],
      "gpuType": "T4",
      "include_colab_link": true
    },
    "kernelspec": {
      "name": "python3",
      "display_name": "Python 3"
    },
    "language_info": {
      "name": "python"
    },
    "accelerator": "GPU"
  },
  "cells": [
    {
      "cell_type": "markdown",
      "metadata": {
        "id": "view-in-github",
        "colab_type": "text"
      },
      "source": [
        "<a href=\"https://colab.research.google.com/github/arturomolin/Tarea1/blob/main/Cramer.ipynb\" target=\"_parent\"><img src=\"https://colab.research.google.com/assets/colab-badge.svg\" alt=\"Open In Colab\"/></a>"
      ]
    },
    {
      "cell_type": "markdown",
      "source": [
        "# Ejercicio 2: Metodo de cramer\n",
        "Primero importamos las funciones que vamos a usar (desde la paquetería elaborada en clase)\n"
      ],
      "metadata": {
        "id": "FAUXtoLJMliz"
      }
    },
    {
      "cell_type": "code",
      "source": [
        "# @title Funciones creadas en clase\n",
        "import numpy as np  # Importamos la librería NumPy para trabajar con matrices y álgebra lineal\n",
        "\n",
        "def SubMat(Mat, ren, col):\n",
        "    \"\"\"\n",
        "    Crea una submatriz eliminando un renglón y una columna específicos de la matriz original.\n",
        "\n",
        "    Parámetros:\n",
        "    -----------\n",
        "    Mat : numpy.ndarray\n",
        "        Matriz original de la cual se obtendrá la submatriz.\n",
        "    ren : int\n",
        "        Índice del renglón que se eliminará de la matriz.\n",
        "    col : int\n",
        "        Índice de la columna que se eliminará de la matriz.\n",
        "\n",
        "    Retorna:\n",
        "    --------\n",
        "    numpy.ndarray\n",
        "        Submatriz resultante después de eliminar el renglón y la columna especificados.\n",
        "\n",
        "    Ejemplo:\n",
        "    --------\n",
        "    >>> Mat = np.array([[1, 2, 3],\n",
        "    ...                [4, 5, 6],\n",
        "    ...                [7, 8, 9]])\n",
        "    >>> SubMat(Mat, 1, 1)\n",
        "    array([[1, 3],\n",
        "           [7, 9]])\n",
        "    \"\"\"\n",
        "    # Crear una copia de la matriz original para no modificarla\n",
        "    M1 = np.copy(Mat)\n",
        "\n",
        "    # Eliminar el renglón especificado\n",
        "    M1 = np.delete(M1, ren, axis=0)\n",
        "\n",
        "    # Eliminar la columna especificada\n",
        "    M1 = np.delete(M1, col, axis=1)\n",
        "\n",
        "    return M1\n",
        "def Det(Mat): # Usamos lo visto en clase\n",
        "    \"\"\"\n",
        "    Calcula el determinante de una matriz cuadrada de manera recursiva.\n",
        "\n",
        "    Parámetros:\n",
        "    -----------\n",
        "    Mat : numpy.ndarray\n",
        "        Matriz cuadrada de la cual se calculará el determinante.\n",
        "        Debe ser de tamaño n x n, donde n >= 2.\n",
        "\n",
        "    Retorna:\n",
        "    --------\n",
        "    float\n",
        "        El determinante de la matriz.\n",
        "\n",
        "    Ejemplo:\n",
        "    --------\n",
        "    >>> Mat = np.array([[1, 2],\n",
        "    ...                [3, 4]])\n",
        "    >>> Det(Mat)\n",
        "    -2.0\n",
        "\n",
        "    >>> Mat = np.array([[6, 1, 1],\n",
        "    ...                [4, -2, 5],\n",
        "    ...                [2, 8, 7]])\n",
        "    >>> Det(Mat)\n",
        "    -306.0\n",
        "    \"\"\"\n",
        "    # Caso base: matriz 2x2\n",
        "    if Mat.shape[0] == 2 and Mat.shape[1] == 2:\n",
        "        return Mat[0][0] * Mat[1][1] - (Mat[0][1] * Mat[1][0])\n",
        "\n",
        "    # Caso recursivo: matrices más grandes\n",
        "    deter = 0.0\n",
        "    for col in range(Mat.shape[0]):\n",
        "        # Calcula el cofactor y suma al determinante\n",
        "        deter += ((-1) ** col) * Mat[0][col] * Det(SubMat(Mat, 0, col))\n",
        "    return deter\n",
        "\n",
        "def Transpuesta(Mat):\n",
        "    \"\"\"\n",
        "    Calcula la transpuesta de una matriz cuadrada modificando la matriz original.\n",
        "\n",
        "    Parámetros:\n",
        "    -----------\n",
        "    Mat : numpy.ndarray\n",
        "        Matriz cuadrada de tamaño n x n que se transpondrá.\n",
        "        La matriz se modificará in situ.\n",
        "\n",
        "    Retorna:\n",
        "    --------\n",
        "    numpy.ndarray\n",
        "        La matriz transpuesta. La matriz original también se modifica.\n",
        "\n",
        "    Ejemplo:\n",
        "    --------\n",
        "    >>> Mat = np.array([[1, 2, 3],\n",
        "    ...                [4, 5, 6],\n",
        "    ...                [7, 8, 9]])\n",
        "    >>> Transpuesta(Mat)\n",
        "    array([[1, 4, 7],\n",
        "           [2, 5, 8],\n",
        "           [3, 6, 9]])\n",
        "    \"\"\"\n",
        "    for ren in range(Mat.shape[0]):\n",
        "        for col in range(Mat.shape[1]):\n",
        "            if ren < col:\n",
        "                # Intercambia los elementos para obtener la transpuesta\n",
        "                Mat[ren, col], Mat[col, ren] = Mat[col, ren], Mat[ren, col]\n",
        "    return Mat\n",
        "def Cofactores(Mat):\n",
        "    \"\"\"\n",
        "    Calcula la matriz de cofactores de una matriz cuadrada.\n",
        "\n",
        "    Parámetros:\n",
        "    -----------\n",
        "    Mat : numpy.ndarray\n",
        "        Matriz cuadrada de tamaño n x n para la cual se calcularán los cofactores.\n",
        "\n",
        "    Retorna:\n",
        "    --------\n",
        "    numpy.ndarray\n",
        "        Matriz de cofactores, donde cada elemento es el cofactor correspondiente\n",
        "        de la matriz original.\n",
        "\n",
        "    Ejemplo:\n",
        "    --------\n",
        "    >>> Mat = np.array([[1, 2],\n",
        "    ...                [3, 4]])\n",
        "    >>> Cofactores(Mat)\n",
        "    array([[ 4., -3.],\n",
        "           [-2.,  1.]])\n",
        "    \"\"\"\n",
        "    # Crear una matriz de ceros del mismo tamaño que Mat para almacenar los cofactores\n",
        "    Cofa = np.zeros_like(Mat, dtype=float)\n",
        "\n",
        "    # Calcular el cofactor para cada elemento de la matriz\n",
        "    for ren in range(Mat.shape[0]):\n",
        "        for col in range(Mat.shape[1]):\n",
        "            # Calcular el determinante de la submatriz (menor) y aplicar el signo\n",
        "            Cofa[ren, col] = ((-1) ** (ren + col)) * Det(SubMat(Mat, ren, col))\n",
        "    return Cofa\n",
        "\n",
        "def Inv(Mat):\n",
        "    \"\"\"\n",
        "    Calcula la inversa de una matriz cuadrada utilizando la matriz de cofactores.\n",
        "\n",
        "    Parámetros:\n",
        "    -----------\n",
        "    Mat : numpy.ndarray\n",
        "        Matriz cuadrada de tamaño n x n que se invertirá.\n",
        "        Debe ser una matriz no singular (su determinante debe ser distinto de cero).\n",
        "\n",
        "    Retorna:\n",
        "    --------\n",
        "    numpy.ndarray\n",
        "        La matriz inversa de la matriz original.\n",
        "\n",
        "    Ejemplo:\n",
        "    --------\n",
        "    >>> Mat = np.array([[4, 7],\n",
        "    ...                [2, 6]])\n",
        "    >>> Inv(Mat)\n",
        "    array([[ 0.6, -0.7],\n",
        "           [-0.2,  0.4]])\n",
        "    \"\"\"\n",
        "    # Calcular el determinante de la matriz\n",
        "    deter = Det(Mat)\n",
        "\n",
        "    # Verificar si la matriz es singular (determinante = 0)\n",
        "    if deter == 0:\n",
        "        raise ValueError(\"La matriz es singular y no tiene inversa.\")\n",
        "\n",
        "    # Calcular la matriz de cofactores\n",
        "    Cofac = Cofactores(Mat)\n",
        "\n",
        "    # Transponer la matriz de cofactores para obtener la matriz adjunta\n",
        "    Cofac = Transpuesta(Cofac)\n",
        "\n",
        "    # Calcular la inversa multiplicando la adjunta por 1/determinante\n",
        "    Inversa = (1 / deter) * Cofac\n",
        "\n",
        "    return Inversa\n",
        "\n",
        "def SolveInv(Mat, vec):\n",
        "    \"\"\"\n",
        "    Resuelve un sistema de ecuaciones lineales utilizando la matriz inversa.\n",
        "\n",
        "    Parámetros:\n",
        "    -----------\n",
        "    Mat : numpy.ndarray\n",
        "        Matriz cuadrada de coeficientes del sistema de ecuaciones.\n",
        "        Debe ser una matriz no singular (su determinante debe ser distinto de cero).\n",
        "\n",
        "    vec : numpy.ndarray\n",
        "        Vector de términos independientes.\n",
        "        Su tamaño debe coincidir con el número de filas de la matriz `Mat`.\n",
        "\n",
        "    Retorna:\n",
        "    --------\n",
        "    numpy.ndarray\n",
        "        Vector solución del sistema de ecuaciones `Mat @ x = vec`.\n",
        "\n",
        "    Excepciones:\n",
        "    ------------\n",
        "    ValueError\n",
        "        Se lanza un error si la matriz `Mat` no es invertible.\n",
        "\n",
        "    Ejemplo:\n",
        "    --------\n",
        "    >>> Mat = np.array([[2, 1],\n",
        "    ...                 [5, 3]])\n",
        "    >>> vec = np.array([4, 10])\n",
        "    >>> SolveInv(Mat, vec)\n",
        "    array([2., 0.])\n",
        "\n",
        "    \"\"\"\n",
        "    # Calcular la inversa de la matriz\n",
        "    InvMat = Inv(Mat)\n",
        "\n",
        "    # Multiplicar la inversa por el vector de términos independientes\n",
        "    Solucion = InvMat @ vec\n",
        "\n",
        "    return Solucion"
      ],
      "metadata": {
        "cellView": "form",
        "id": "awhyMFAPMuEf"
      },
      "execution_count": null,
      "outputs": []
    },
    {
      "cell_type": "markdown",
      "source": [
        "Ahora, creamos la función del metodo de cramer"
      ],
      "metadata": {
        "id": "2I2YOFHjQOLn"
      }
    },
    {
      "cell_type": "code",
      "source": [
        "def metodo_cramer(A, b):\n",
        "    \"\"\"\n",
        "    Resuelve un sistema de ecuaciones usando el metodo de Cramer.\n",
        "\n",
        "    Este método solo funciona cuando el determinante de la matriz de coeficientes no es cero\n",
        "\n",
        "    Parámetros:\n",
        "    -----------\n",
        "    A : numpy.ndarray\n",
        "        Matriz de coeficientes (debe ser cuadrada y no singular).\n",
        "    b : numpy.ndarray\n",
        "        Vector de términos independientes.\n",
        "\n",
        "    Retorna:\n",
        "    numpy.ndarray\n",
        "        Vector solución del sistema de ecuaciones.\n",
        "    \"\"\"\n",
        "    det_A = Det(A)  # Usamos la función Det vista en clase para calcular el determinante\n",
        "\n",
        "    if det_A == 0:\n",
        "        raise ValueError(\"El sistema no tiene solución única (determinante cero).\")\n",
        "\n",
        "    n = A.shape[0] # Esto es para saber cuando termina el ciclo For\n",
        "    solucion = np.zeros(n)  # Creamos un array para almacenar las soluciones\n",
        "\n",
        "    for i in range(n):\n",
        "        Ai = A.copy() # Se crea una copia en cada iteración porque en cada iteración se cambia la matriz, también es para no crear confuciones\n",
        "        Ai[:, i] = b  # Sustituir la columna i por el vector de términos independientes\n",
        "        solucion[i] = Det(Ai) / det_A  # Aplicamos la regla de Cramer\n",
        "\n",
        "    return solucion"
      ],
      "metadata": {
        "id": "6ToGQaZcO7gB"
      },
      "execution_count": null,
      "outputs": []
    },
    {
      "cell_type": "markdown",
      "source": [
        "Ahora comparamos con la función SolveInv vista en clase"
      ],
      "metadata": {
        "id": "O-LbNwggR4HW"
      }
    },
    {
      "cell_type": "code",
      "source": [
        "A=np.array([[2,3,-4],\n",
        "            [0,-4,2],\n",
        "            [1,-1,5]])\n",
        "b=np.array([1.0,1.0,1.0])\n",
        "\n",
        "solucion = metodo_cramer(A, b)\n",
        "print(\"Solución del sistema con metodo de cramer:\")\n",
        "print(solucion)\n",
        "print(\"Solución del sistema con la función SolveInv:\")\n",
        "Sol=SolveInv(A,b)\n",
        "print(Sol)\n"
      ],
      "metadata": {
        "colab": {
          "base_uri": "https://localhost:8080/"
        },
        "id": "4d3F6BdoRgGp",
        "outputId": "1838e8ca-05bc-4713-c606-6051bad66021"
      },
      "execution_count": null,
      "outputs": [
        {
          "output_type": "stream",
          "name": "stdout",
          "text": [
            "Solución del sistema con metodo de cramer:\n",
            "[ 0.84782609 -0.26086957 -0.02173913]\n",
            "Solución del sistema con la función SolveInv:\n",
            "[ 0.84782609 -0.26086957 -0.02173913]\n"
          ]
        }
      ]
    },
    {
      "cell_type": "markdown",
      "source": [
        "Lo hacemos con una matriz más grande y tomamos el tiempo de ejeción"
      ],
      "metadata": {
        "id": "pB1E6l9UTFY-"
      }
    },
    {
      "cell_type": "code",
      "source": [
        "import time\n",
        "A= np.array([[3, 1, -2, 4, 2, -1, 5],\n",
        "               [1, 5, 3, -2, 6, 4, -3],\n",
        "               [-2, 3, 6, 1, -5, 2, 3],\n",
        "               [4, -2, 1, 7, 3, -6, 2],\n",
        "               [2, 6, -5, 3, 8, 1, -4],\n",
        "               [-1, 4, 2, -6, 1, 5, 3],\n",
        "               [5, -3, 3, 2, -4, 6, 7]])\n",
        "b=np.array([2, -1, 3, 4, -2, 5, 1])\n",
        "\n",
        "# Medir tiempo de ejecución para cada método con la matriz 5x5\n",
        "start_cramer = time.time()\n",
        "sol_cramer_5 = metodo_cramer(A, b)\n",
        "end_cramer = time.time()\n",
        "print(\"Solución con Cramer (5x5):\", sol_cramer_5)\n",
        "print(\"Tiempo de ejecución de Cramer (5x5):\", end_cramer - start_cramer, \"segundos\")\n",
        "\n",
        "start_inv = time.time()\n",
        "sol_inv_5 = SolveInv(A, b)\n",
        "end_inv = time.time()\n",
        "print(\"Solución con Matriz Inversa (5x5):\", sol_inv_5)\n",
        "print(\"Tiempo de ejecución de Inversa (5x5):\", end_inv - start_inv, \"segundos\")\n"
      ],
      "metadata": {
        "colab": {
          "base_uri": "https://localhost:8080/"
        },
        "id": "4Hl2EYHaTIwv",
        "outputId": "74e5bf67-f82c-4d8e-fe72-f7fdcbe5c6da"
      },
      "execution_count": null,
      "outputs": [
        {
          "output_type": "stream",
          "name": "stdout",
          "text": [
            "Solución con Cramer (5x5): [ 8.00271944  4.6720426  -0.16343103 -4.01495694 -4.44987914 -4.24463665\n",
            " -1.25842272]\n",
            "Tiempo de ejecución de Cramer (5x5): 0.27889084815979004 segundos\n",
            "Solución con Matriz Inversa (5x5): [ 8.00271944  4.6720426  -0.16343103 -4.01495694 -4.44987914 -4.24463665\n",
            " -1.25842272]\n",
            "Tiempo de ejecución de Inversa (5x5): 0.3103201389312744 segundos\n"
          ]
        }
      ]
    },
    {
      "cell_type": "markdown",
      "source": [
        "Ahora con una matriz mucho más grande, para que podamos observar bien el tiempo de ejecución"
      ],
      "metadata": {
        "id": "-f-uJy8GVBj5"
      }
    },
    {
      "cell_type": "code",
      "source": [
        "A= np.array([[3, 1, -2, 4, 2, -1, 5, 2, -3, 1],\n",
        "                [1, 5, 3, -2, 6, 4, -3, 3, -1, 2],\n",
        "                [-2, 3, 6, 1, -5, 2, 3, -4, 5, -2],\n",
        "                [4, -2, 1, 7, 3, -6, 2, 1, -5, 3],\n",
        "                [2, 6, -5, 3, 8, 1, -4, 2, 6, -1],\n",
        "                [-1, 4, 2, -6, 1, 5, 3, -2, 4, 7],\n",
        "                [5, -3, 3, 2, -4, 6, 7, -1, 3, 2],\n",
        "                [2, -1, 4, 3, -6, 5, 1, 7, -2, 6],\n",
        "                [-3, 2, 1, -5, 4, 3, -6, 2, 8, 1],\n",
        "                [1, -2, 5, 3, -4, 6, 7, -1, 2, 9]])\n",
        "b=np.array([1, -2, 3, 4, -1, 5, 2, -3, 6, 7])\n",
        "\n",
        "# Medir tiempo de ejecución para cada método con la matriz 5x5\n",
        "start_cramer = time.time()\n",
        "sol_cramer_5 = metodo_cramer(A, b)\n",
        "end_cramer = time.time()\n",
        "print(\"Solución con Cramer (5x5):\", sol_cramer_5)\n",
        "print(\"Tiempo de ejecución de Cramer (5x5):\", end_cramer - start_cramer, \"segundos\")\n",
        "\n",
        "start_inv = time.time()\n",
        "sol_inv_5 = SolveInv(A, b)\n",
        "end_inv = time.time()\n",
        "print(\"Solución con Matriz Inversa (5x5):\", sol_inv_5)\n",
        "print(\"Tiempo de ejecución de Inversa (5x5):\", end_inv - start_inv, \"segundos\")"
      ],
      "metadata": {
        "colab": {
          "base_uri": "https://localhost:8080/"
        },
        "id": "c4g6b06JVA7W",
        "outputId": "d69c9e30-b25c-4228-8419-ee0f18a66761"
      },
      "execution_count": null,
      "outputs": [
        {
          "output_type": "stream",
          "name": "stdout",
          "text": [
            "Solución con Cramer (5x5): [-0.77378794 -0.67533005  0.66118976 -0.08184638  0.81834853 -0.76044848\n",
            "  0.97322565  0.44953931  0.94754497  0.32674144]\n",
            "Tiempo de ejecución de Cramer (5x5): 306.91538882255554 segundos\n",
            "Solución con Matriz Inversa (5x5): [-0.77378794 -0.67533005  0.66118976 -0.08184638  0.81834853 -0.76044848\n",
            "  0.97322565  0.44953931  0.94754497  0.32674144]\n",
            "Tiempo de ejecución de Inversa (5x5): 305.0945019721985 segundos\n"
          ]
        }
      ]
    }
  ]
}