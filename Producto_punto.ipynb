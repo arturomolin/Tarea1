{
  "nbformat": 4,
  "nbformat_minor": 0,
  "metadata": {
    "colab": {
      "provenance": [],
      "include_colab_link": true
    },
    "kernelspec": {
      "name": "python3",
      "display_name": "Python 3"
    },
    "language_info": {
      "name": "python"
    }
  },
  "cells": [
    {
      "cell_type": "markdown",
      "metadata": {
        "id": "view-in-github",
        "colab_type": "text"
      },
      "source": [
        "<a href=\"https://colab.research.google.com/github/arturomolin/Tarea1/blob/main/Producto_punto.ipynb\" target=\"_parent\"><img src=\"https://colab.research.google.com/assets/colab-badge.svg\" alt=\"Open In Colab\"/></a>"
      ]
    },
    {
      "cell_type": "code",
      "execution_count": null,
      "metadata": {
        "id": "xYqax607t4rJ",
        "outputId": "e6562710-5d99-442d-e5ee-4956fe453847",
        "colab": {
          "base_uri": "https://localhost:8080/"
        }
      },
      "outputs": [
        {
          "output_type": "stream",
          "name": "stdout",
          "text": [
            "Ingresa la dimension del espacio n: 2\n",
            "Ingresa los 2 elementos del vector v1 separando por espacios cada elemento: 1 2 3\n",
            "Ingresa los 2 elementos del vector v2 separando por espacios cada elemento: 1 2 3\n",
            "Ingrese el tamaño del bloque: 2\n",
            "El producto punto de los vectores es: 14.0\n"
          ]
        }
      ],
      "source": [
        "def producto_punto_bloques(v1, v2, tamaño_del_bloque):\n",
        "    #se define el producto punto por bloques de dos vectores v1 y v2 y el tamaño del bloque\n",
        "\n",
        "\n",
        "    n = len(v1)  # se guarda la longitud del vector v1\n",
        "    producto_total = 0  # se guarda en una variable la suma total del producto punto\n",
        "\n",
        "    # se itera en bloques del tamaño dado por el usuario\n",
        "    for i in range(0, n, tamaño_del_bloque):\n",
        "        producto_bloque = sum(v1[j] * v2[j] for j in range(i, min(i + tamaño_del_bloque, n)))\n",
        "        # se calcula el producto escalar sumando los productos de los elementos\n",
        "        producto_total += producto_bloque  # se guarda el lo acumulado por el producto parcial\n",
        "    return producto_total  # se devuelve el producto punto total y acon las sumas hechas\n",
        "\n",
        "# se piden os datos al usuario definiendo la dimencion n donde se trabaja\n",
        "def ingresar_vector(nombre, n):\n",
        "    return list(map(float, input(f\"Ingresa los {n} elementos del vector {nombre} separando por espacios cada elemento: \").split()))\n",
        "    #dado los datos del usuriao se transforman en una lista\n",
        "\n",
        "# se pide la dimencion de r y se guarda en un entero\n",
        "n = int(input(\"Ingresa la dimension del espacio n: \"))\n",
        "\n",
        "# se pide ingresar los vectores con la dimension introducida por el usario\n",
        "v1 = ingresar_vector(\"v1\", n)\n",
        "v2 = ingresar_vector(\"v2\", n)\n",
        "\n",
        "if len(v1) != len(v2): #se verifica que la longitud de los vectores se la misma si no imprime el error\n",
        "    print(\"Error Los vectores deben tener la misma longitud.\")\n",
        "else:\n",
        "    tamaño_del_bloque = int(input(\"Ingrese el tamaño del bloque: \"))\n",
        "    # se guarda el tamaño de bloque\n",
        "    resultado = producto_punto_bloques(v1, v2, tamaño_del_bloque)  # se calcula el producto punto por bloques\n",
        "    print(f\"El producto punto de los vectores es: {resultado}\")\n"
      ]
    }
  ]
}