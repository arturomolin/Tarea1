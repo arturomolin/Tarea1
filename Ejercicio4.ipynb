{
  "nbformat": 4,
  "nbformat_minor": 0,
  "metadata": {
    "colab": {
      "provenance": [],
      "authorship_tag": "ABX9TyNB7U/HO/HLUJSIBpScuK9v",
      "include_colab_link": true
    },
    "kernelspec": {
      "name": "python3",
      "display_name": "Python 3"
    },
    "language_info": {
      "name": "python"
    }
  },
  "cells": [
    {
      "cell_type": "markdown",
      "metadata": {
        "id": "view-in-github",
        "colab_type": "text"
      },
      "source": [
        "<a href=\"https://colab.research.google.com/github/arturomolin/Tarea1/blob/main/Ejercicio4.ipynb\" target=\"_parent\"><img src=\"https://colab.research.google.com/assets/colab-badge.svg\" alt=\"Open In Colab\"/></a>"
      ]
    },
    {
      "cell_type": "code",
      "execution_count": null,
      "metadata": {
        "colab": {
          "base_uri": "https://localhost:8080/"
        },
        "id": "TlsSF2gsqgX6",
        "outputId": "36482da0-c76b-4d53-e83c-62087d6c6975"
      },
      "outputs": [
        {
          "output_type": "stream",
          "name": "stdout",
          "text": [
            "Iter\t a\t\t b\t\t c\t\t f(c)\n",
            "1\t 1.000000\t 2.000000\t 1.500000\t -0.750000\n",
            "2\t 1.500000\t 2.000000\t 1.750000\t 0.062500\n",
            "3\t 1.500000\t 1.750000\t 1.625000\t -0.359375\n",
            "4\t 1.625000\t 1.750000\t 1.687500\t -0.152344\n",
            "5\t 1.687500\t 1.750000\t 1.718750\t -0.045898\n"
          ]
        }
      ],
      "source": [
        "# Arturo Molina\n",
        "#Ejercicio 4\n",
        "# Definimos la función dada en el problema.\n",
        "def f(x):\n",
        "    return x**2 - 3\n",
        "\n",
        "#Definimos como será ña bisección.\n",
        "#Así como ponemos las restricciones de nues tra bisección.\n",
        "def biseccion(a, b, tol=1e-4, max_iter=5):\n",
        "    print(\"Iter\\t a\\t\\t b\\t\\t c\\t\\t f(c)\")\n",
        "    for i in range(1, max_iter + 1):\n",
        "        c = (a + b) / 2\n",
        "        fc = f(c)\n",
        "        print(f\"{i}\\t {a:.6f}\\t {b:.6f}\\t {c:.6f}\\t {fc:.6f}\")\n",
        "        if f(a) * fc < 0:\n",
        "            b = c\n",
        "        else:\n",
        "            a = c\n",
        "        if abs(fc) < tol:\n",
        "            break\n",
        "\n",
        "biseccion(1, 2)"
      ]
    }
  ]
}