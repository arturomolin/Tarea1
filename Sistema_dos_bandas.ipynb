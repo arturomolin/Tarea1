{
  "nbformat": 4,
  "nbformat_minor": 0,
  "metadata": {
    "colab": {
      "provenance": [],
      "include_colab_link": true
    },
    "kernelspec": {
      "name": "python3",
      "display_name": "Python 3"
    },
    "language_info": {
      "name": "python"
    }
  },
  "cells": [
    {
      "cell_type": "markdown",
      "metadata": {
        "id": "view-in-github",
        "colab_type": "text"
      },
      "source": [
        "<a href=\"https://colab.research.google.com/github/arturomolin/Tarea1/blob/main/Sistema_dos_bandas.ipynb\" target=\"_parent\"><img src=\"https://colab.research.google.com/assets/colab-badge.svg\" alt=\"Open In Colab\"/></a>"
      ]
    },
    {
      "cell_type": "markdown",
      "source": [
        "# Ejercicio 2: Sistema de dos bandas"
      ],
      "metadata": {
        "id": "QFLkdIyooWLY"
      }
    },
    {
      "cell_type": "markdown",
      "source": [
        "Importamos las funciones que vamos a necesitar, estas las vimos en clase:"
      ],
      "metadata": {
        "id": "-ekJf3KpohlS"
      }
    },
    {
      "cell_type": "code",
      "source": [
        "# @title Formulario\n",
        "import numpy as np\n",
        "def SustitucionDelante(Mat, b):\n",
        "    n = Mat.shape[0]\n",
        "    x = np.zeros(n)\n",
        "\n",
        "    for i in range(n):\n",
        "        SumCum = 0.0\n",
        "        for j in range(i):\n",
        "            SumCum += Mat[i, j] * x[j]\n",
        "        x[i] = (b[i] - SumCum) / Mat[i, i]\n",
        "\n",
        "    return x\n",
        "\n",
        "def SustitucionAtras(Mat, b):\n",
        "    n = Mat.shape[0]\n",
        "    x = np.zeros(n)\n",
        "\n",
        "    for i in range(n-1, -1, -1):\n",
        "        SumCum = 0.0\n",
        "        for j in range(i+1, n):\n",
        "            SumCum += Mat[i, j] * x[j]\n",
        "        x[i] = (b[i] - SumCum) / Mat[i, i]\n",
        "\n",
        "    return x\n"
      ],
      "metadata": {
        "cellView": "form",
        "id": "1xUXb2Iaol2l"
      },
      "execution_count": null,
      "outputs": []
    },
    {
      "cell_type": "markdown",
      "source": [
        "Ahora hacemos el programa, tenemos que si la banda es diagonal superior usaremos la sustitución hacia atras, y si es diagonal inferior usaremos sustitución hacia adelante, y si no es ninguna de las 2, mandaremos un error ya que la matriz no es estrictamente bidiagonal (en este caso se resolvería con el algoritmo de Thomas)"
      ],
      "metadata": {
        "id": "Jkh7YQDepnt1"
      }
    },
    {
      "cell_type": "code",
      "source": [
        "def resolver_sistema_bandas(A, b):\n",
        "    DP = np.diag(A)\n",
        "    DS = np.diag(A, k=1)\n",
        "    DI = np.diag(A, k=-1)\n",
        "\n",
        "    if np.count_nonzero(DI) > 0 and np.count_nonzero(DS) == 0:  # Cuenta el número de elementos que NO son cero, si es mayor que 0 esto significa que estamos en el caso de diagonal inferior,\n",
        "        return SustitucionDelante(A, b)                         # también verifica que sea 0 la diagonal superior\n",
        "    elif np.count_nonzero(DS) > 0 and np.count_nonzero(DI) == 0:  # Solo banda superior, hace lo mismo que la de arriba\n",
        "        return SustitucionAtras(A, b)\n",
        "    else:\n",
        "        raise ValueError(\"La matriz no es estrictamente bidiagonal\")"
      ],
      "metadata": {
        "id": "fLBMdNR3ohMR"
      },
      "execution_count": null,
      "outputs": []
    },
    {
      "cell_type": "markdown",
      "source": [
        "Ahora probaremos la función con la que tiene Numpy, lo haremos para los 2 casos:"
      ],
      "metadata": {
        "id": "TKaNPYOcHdE9"
      }
    },
    {
      "cell_type": "code",
      "source": [
        "from numpy import linalg as LA\n",
        "A_superior = np.array([[2, 1, 0],\n",
        "                        [0, 3, 2],\n",
        "                        [0, 0, 4]], dtype=float)\n",
        "b_superior = np.array([5, 8, 12], dtype=float)\n",
        "\n",
        "solucion_superior = resolver_sistema_bandas(A_superior, b_superior)\n",
        "print(\"Solución para matriz con banda superior:\", solucion_superior)\n",
        "\n",
        "# Resolvemos con Numpy para poder comparar los resultados\n",
        "solucion_numpy = LA.solve(A_superior, b_superior)\n",
        "print(\"Solución con numpy es:\", solucion_numpy)"
      ],
      "metadata": {
        "colab": {
          "base_uri": "https://localhost:8080/"
        },
        "id": "FhjoULIYHjsP",
        "outputId": "31c28d41-4620-43ce-8051-12e930d0b8d2"
      },
      "execution_count": null,
      "outputs": [
        {
          "output_type": "stream",
          "name": "stdout",
          "text": [
            "Solución para matriz con banda superior: [2.16666667 0.66666667 3.        ]\n",
            "Solución con numpy es: [2.16666667 0.66666667 3.        ]\n"
          ]
        }
      ]
    },
    {
      "cell_type": "code",
      "source": [
        "A_inferior = np.array([[3, 0, 0],\n",
        "                        [2, 5, 0],\n",
        "                        [1, 4, 6]], dtype=float)\n",
        "b_inferior = np.array([6, 15, 28], dtype=float)\n",
        "\n",
        "solucion_inferior = resolver_sistema_bandas(A_inferior, b_inferior)\n",
        "print(\"Solución para matriz con banda inferior:\", solucion_inferior)\n",
        "\n",
        "# Resolvemos con Numpy para poder comparar los resultados\n",
        "solucion_numpy = LA.solve(A_inferior, b_inferior)\n",
        "print(\"Solución con numpy es:\", solucion_numpy)"
      ],
      "metadata": {
        "colab": {
          "base_uri": "https://localhost:8080/"
        },
        "id": "_feQpZ9gIKKm",
        "outputId": "58549634-8a2e-4b00-cd06-575a501dc8ac"
      },
      "execution_count": null,
      "outputs": [
        {
          "output_type": "stream",
          "name": "stdout",
          "text": [
            "Solución para matriz con banda inferior: [2.         2.2        2.86666667]\n",
            "Solución con numpy es: [2.         2.2        2.86666667]\n"
          ]
        }
      ]
    }
  ]
}