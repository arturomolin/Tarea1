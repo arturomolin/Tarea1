{
  "nbformat": 4,
  "nbformat_minor": 0,
  "metadata": {
    "colab": {
      "provenance": [],
      "include_colab_link": true
    },
    "kernelspec": {
      "name": "python3",
      "display_name": "Python 3"
    },
    "language_info": {
      "name": "python"
    }
  },
  "cells": [
    {
      "cell_type": "markdown",
      "metadata": {
        "id": "view-in-github",
        "colab_type": "text"
      },
      "source": [
        "<a href=\"https://colab.research.google.com/github/arturomolin/Tarea1/blob/main/Ejercicio25.ipynb\" target=\"_parent\"><img src=\"https://colab.research.google.com/assets/colab-badge.svg\" alt=\"Open In Colab\"/></a>"
      ]
    },
    {
      "cell_type": "code",
      "execution_count": null,
      "metadata": {
        "id": "Hf8Wk6MaT8iX"
      },
      "outputs": [],
      "source": [
        "#Ejercicio 25\n",
        "import numpy as np\n",
        "import matplotlib.pyplot as plt\n",
        "from numpy.linalg import norm, cholesky, qr, solve\n",
        "\n",
        "# Definimos los parámetros\n",
        "m = 21  # número de puntos de datos\n",
        "n = 12  # grado del polinomio + 1 (grado n-1)\n",
        "epsilon = 1e-10  # magnitud de la perturbación\n",
        "\n",
        "# Vamos a genarar los puntos t_i uniformemente espaciados en [0,1]\n",
        "t_i = np.linspace(0, 1, m)\n",
        "\n",
        "# Definimos la matriz de Vandermonde para el ajuste polinomial\n",
        "A = np.vander(t_i, n, increasing=True)\n",
        "\n",
        "# Damos los valores \"exactos\" y_i (sin perturbación)\n",
        "x_exact = np.ones(n)  # coeficientes exactos (todos 1)\n",
        "y_exact = A @ x_exact\n",
        "\n",
        "# Definimos la perturbación aleatoria\n",
        "np.random.seed(42)  # Para reproducibilidad\n",
        "u_i = np.random.rand(m)\n",
        "perturbacion = (2 * u_i - 1) * epsilon\n",
        "y_i = y_exact + perturbacion\n",
        "\n",
        "# Método 1: Ecuaciones Normales con Factorización de Cholesky\n",
        "\n",
        "# Formamos el sistema normal A^T A x = A^T y\n",
        "ATA = A.T @ A\n",
        "ATy = A.T @ y_i\n",
        "\n",
        "try:\n",
        "    # Hacemos la factorización de Cholesky\n",
        "    L = cholesky(ATA)\n",
        "    # Resolvemos para L L^T x = A^T y en dos pasos\n",
        "    y = solve(L, ATy)\n",
        "    x_cholesky = solve(L.T, y)\n",
        "except np.linalg.LinAlgError:\n",
        "    print(\"La matriz A^T A no es definida positiva para Cholesky\")\n",
        "    x_cholesky = np.linalg.solve(ATA, ATy)  # Usamos solver general si Cholesky falla\n",
        "\n",
        "# Método 2: Factorización QR\n",
        "\n",
        "Q, R = qr(A, mode='reduced')  # Factorizamos QR reducida\n",
        "x_qr = solve(R, Q.T @ y_i)\n",
        "\n",
        "# Calculamos los errores\n",
        "error_cholesky = norm(x_cholesky - x_exact)\n",
        "error_qr = norm(x_qr - x_exact)\n",
        "\n",
        "# Evaluaamos los polinomios ajustados en puntos t_i\n",
        "y_cholesky = A @ x_cholesky\n",
        "y_qr = A @ x_qr\n",
        "\n",
        "# Resultados\n",
        "print(\"Coeficientes exactos:\", x_exact)\n",
        "print(\"\\nCoeficientes por Ecuaciones Normales (Cholesky):\", x_cholesky)\n",
        "print(\"Error:\", error_cholesky)\n",
        "print(\"\\nCoeficientes por Factorización QR:\", x_qr)\n",
        "print(\"Error:\", error_qr)\n",
        "\n",
        "# Graficamos para ver los ajustes\n",
        "plt.figure(figsize=(12, 6))\n",
        "plt.plot(t_i, y_exact, 'ko', label='Datos exactos')\n",
        "plt.plot(t_i, y_i, 'ro', label='Datos perturbados')\n",
        "plt.plot(t_i, y_cholesky, 'b-', label='Ajuste Cholesky')\n",
        "plt.plot(t_i, y_qr, 'g--', label='Ajuste QR')\n",
        "plt.legend()\n",
        "plt.title('Comparación de métodos de ajuste polinomial')\n",
        "plt.xlabel('t_i')\n",
        "plt.ylabel('y_i')\n",
        "plt.grid(True)\n",
        "plt.show()"
      ]
    },
    {
      "cell_type": "markdown",
      "source": [
        "# PREGUNTAS"
      ],
      "metadata": {
        "id": "iRsXD6I-UBAd"
      }
    },
    {
      "cell_type": "markdown",
      "source": [
        "a) El método de Ecuaciones Normales es más sensible a la perturbación porque:\n",
        "\n",
        "\n",
        "\n",
        "*   Forma la matriz AᵀA, que cuadra el número de condición de la matriz original A\n",
        "*  Los errores de redondeo se amplifican\n",
        "\n",
        "*   La factorización QR trabaja directamente con la matriz A sin formar AᵀA\n",
        "\n",
        "Por lo tanto, el error en la solución de Cholesky es significativamente mayor que el de QR."
      ],
      "metadata": {
        "id": "gUL1vAYvRq0m"
      }
    },
    {
      "cell_type": "markdown",
      "source": [
        "b) La proximidad a la solución exacta de la factorización QR proporciona una solución más cercana a los valores exactos porque:\n",
        "\n",
        "* Es más estable para problemas mal condicionados\n",
        "\n",
        "* Evita la formación explícita de AᵀA que amplifica los errores\n",
        "\n",
        "* Los errores numéricos se propagan menos en el proceso de solución\n",
        "\n",
        "Por lo tanto, el error de QR será de magnitud menor que el de Cholesky."
      ],
      "metadata": {
        "id": "WsowOXFBSTNu"
      }
    },
    {
      "cell_type": "markdown",
      "source": [
        "c) La diferencia en el ajuste de los puntos (t_i, y_i) puede ser pequeña, ya que un problema mal condicionado tiene muchas soluciones de coeficientes que producen ajustes similares y los polinomios de alto grado pueden ser muy sensibles a cambios en coeficientes pero producir valores similares en los puntos de datos. Como se muestra en la grafica, ambas curvas de ajuste pasan muy cerca de los puntos perturbados, a pesar de la diferencia de los coeficientes."
      ],
      "metadata": {
        "id": "JKMnPSPhTBFG"
      }
    }
  ]
}