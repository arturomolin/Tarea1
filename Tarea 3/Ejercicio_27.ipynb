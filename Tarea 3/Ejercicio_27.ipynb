{
  "nbformat": 4,
  "nbformat_minor": 0,
  "metadata": {
    "colab": {
      "provenance": [],
      "include_colab_link": true
    },
    "kernelspec": {
      "name": "python3",
      "display_name": "Python 3"
    },
    "language_info": {
      "name": "python"
    }
  },
  "cells": [
    {
      "cell_type": "markdown",
      "metadata": {
        "id": "view-in-github",
        "colab_type": "text"
      },
      "source": [
        "<a href=\"https://colab.research.google.com/github/arturomolin/Tarea1/blob/main/Ejercicio_27.ipynb\" target=\"_parent\"><img src=\"https://colab.research.google.com/assets/colab-badge.svg\" alt=\"Open In Colab\"/></a>"
      ]
    },
    {
      "cell_type": "code",
      "execution_count": null,
      "metadata": {
        "id": "N6YUHnAB4nef",
        "outputId": "6a1188ba-0b84-4599-aed6-df661aa88001",
        "colab": {
          "base_uri": "https://localhost:8080/"
        }
      },
      "outputs": [
        {
          "output_type": "stream",
          "name": "stdout",
          "text": [
            "\n",
            "======= ε = 1.0e-07 =======\n",
            "Ecuaciones Normales       → x = [0.33333333 0.33333333 0.33333333], residuo = 5.77e-08\n",
            "Householder               → x = [0.33333333 0.33333333 0.33333333], residuo = 5.77e-08\n",
            "Givens                    → x = [0.33333333 0.33333333 0.33333333], residuo = 5.77e-08\n",
            "Gram-Schmidt              → x = [0.34866916 0.32566542 0.32566542], residuo = 6.51e-01\n",
            "\n",
            "======= ε = 5.0e-08 =======\n",
            "Ecuaciones Normales       → x = [0.33333333 0.33333333 0.33333333], residuo = 2.89e-08\n",
            "Householder               → x = [0.33333333 0.33333333 0.33333333], residuo = 2.89e-08\n",
            "Givens                    → x = [0.33333333 0.33333333 0.33333333], residuo = 2.89e-08\n",
            "Gram-Schmidt              → x = [0.40788105 0.29605947 0.29605947], residuo = 5.92e-01\n",
            "\n",
            "======= ε = 1.0e-15 =======\n",
            "Ecuaciones Normales       → ERROR: Matrix is singular.\n",
            "Householder               → x = [0.33333333 0.33333333 0.33333333], residuo = 5.77e-16\n",
            "Givens                    → x = [0.33333333 0.33333333 0.33333333], residuo = 5.77e-16\n",
            "Gram-Schmidt              → x = [1. 0. 0.], residuo = 1.00e-15\n"
          ]
        }
      ],
      "source": [
        "import numpy as np\n",
        "from scipy.linalg import qr, solve\n",
        "\n",
        "# Tomamos al azar valores de epsilon cercanos a sqrt(eps_m) y eps_m, pero no iguales\n",
        "epsilons = [1e-7, 5e-8, 1e-15]\n",
        "b = np.array([1, 0, 0, 0], dtype=float)\n",
        "\n",
        "# Como haremos distintos epsilons, necesitamos que la matriz A \"mute\" de acuerdo a cada epsilon\n",
        "def construir_A(eps):\n",
        "    return np.array([\n",
        "        [1, 1, 1],\n",
        "        [eps, 0, 0],\n",
        "        [0, eps, 0],\n",
        "        [0, 0, eps]\n",
        "    ], dtype=float)\n",
        "\n",
        "#Y planteamos los métodos\n",
        "# Ecuaciones normales\n",
        "def ecuaciones_normales(A, b):\n",
        "    AtA = A.T @ A\n",
        "    Atb = A.T @ b\n",
        "    return solve(AtA, Atb)\n",
        "\n",
        "# Householder ---\n",
        "def householder(A, b):\n",
        "    Q, R = qr(A, mode='economic')\n",
        "    return solve(R, Q.T @ b)\n",
        "\n",
        "# Givens (misma función en scipy para QR)\n",
        "def givens(A, b):\n",
        "    Q, R = qr(A, mode='economic')\n",
        "    return solve(R, Q.T @ b)\n",
        "\n",
        "# Gram-Schmidt\n",
        "def gram_schmidt(A, b):\n",
        "    m, n = A.shape\n",
        "    Q = np.zeros((m, n))\n",
        "    R = np.zeros((n, n))\n",
        "    for j in range(n):\n",
        "        v = A[:, j]\n",
        "        for i in range(j):\n",
        "            R[i, j] = np.dot(Q[:, i], A[:, j])\n",
        "            v -= R[i, j] * Q[:, i]\n",
        "        R[j, j] = np.linalg.norm(v)\n",
        "        Q[:, j] = v / R[j, j]\n",
        "    return solve(R, Q.T @ b)\n",
        "\n",
        "methods = {\n",
        "    \"Ecuaciones Normales\": ecuaciones_normales,\n",
        "    \"Householder\": householder,\n",
        "    \"Givens\": givens,\n",
        "    \"Gram-Schmidt\": gram_schmidt\n",
        "}\n",
        "\n",
        "# Y resolvemos\n",
        "for eps in epsilons:\n",
        "    A = construir_A(eps)\n",
        "    print(f\"\\n======= ε = {eps:.1e} =======\")\n",
        "    for name, method in methods.items():\n",
        "        try:\n",
        "            x = method(A, b)\n",
        "            residuo = np.linalg.norm(A @ x - b)\n",
        "            print(f\"{name:25s} → x = {x}, residuo = {residuo:.2e}\")\n",
        "        except Exception as e:\n",
        "            print(f\"{name:25s} → ERROR: {e}\")\n"
      ]
    }
  ]
}