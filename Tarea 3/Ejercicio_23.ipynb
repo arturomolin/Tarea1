{
  "nbformat": 4,
  "nbformat_minor": 0,
  "metadata": {
    "colab": {
      "provenance": [],
      "include_colab_link": true
    },
    "kernelspec": {
      "name": "python3",
      "display_name": "Python 3"
    },
    "language_info": {
      "name": "python"
    }
  },
  "cells": [
    {
      "cell_type": "markdown",
      "metadata": {
        "id": "view-in-github",
        "colab_type": "text"
      },
      "source": [
        "<a href=\"https://colab.research.google.com/github/arturomolin/Tarea1/blob/main/Ejercicio_23.ipynb\" target=\"_parent\"><img src=\"https://colab.research.google.com/assets/colab-badge.svg\" alt=\"Open In Colab\"/></a>"
      ]
    },
    {
      "cell_type": "code",
      "execution_count": null,
      "metadata": {
        "colab": {
          "base_uri": "https://localhost:8080/"
        },
        "id": "1vJYj2qy4N18",
        "outputId": "b9c60265-832c-4590-ac2a-9ff08ef3cc99"
      },
      "outputs": [
        {
          "output_type": "stream",
          "name": "stdout",
          "text": [
            "Solución :\n",
            "x = [1. 1.]\n",
            "Solución con b perturbado:\n",
            "x = [ 7.00888731 -8.39566299]\n",
            "Residuo inciso a): 0.00e+00\n",
            "Residuo inciso b): 2.17e-02\n"
          ]
        }
      ],
      "source": [
        "#Ejercicio 23\n",
        "import numpy as np\n",
        "from scipy.linalg import solve\n",
        "A = np.array([\n",
        "    [0.16, 0.10],\n",
        "    [0.17, 0.11],\n",
        "    [2.02, 1.29]\n",
        "])\n",
        "\n",
        "b = np.array([0.26, 0.28, 3.31])\n",
        "\n",
        "# Inciso a), resolvemos por ecuaciones normales ((A^T A) x = A^T b)\n",
        "AtA = A.T @ A\n",
        "Atb = A.T @ b\n",
        "\n",
        "# Resolvemos el sistema entonces\n",
        "x = solve(AtA, Atb)\n",
        "print(\"Solución :\")\n",
        "print(\"x =\", x)\n",
        "\n",
        "\n",
        "# Inciso b), consideramos ahora la perturbación en el vector b\n",
        "b_perturbado = np.array([0.27, 0.25, 3.33])\n",
        "AtA = A.T @ A\n",
        "Atb = A.T @ b_perturbado\n",
        "\n",
        "# Resolver el sistema\n",
        "x = solve(AtA, Atb)\n",
        "\n",
        "# Mostrar resultado\n",
        "print(\"Solución con b perturbado:\")\n",
        "print(\"x =\", x)\n",
        "\n",
        "# Calcular residuos para ambos casos\n",
        "residuo_inciso_a = np.linalg.norm(A @ np.array([1.0, 1.0]) - np.array([0.26, 0.28, 3.31]))\n",
        "residuo_inciso_b = np.linalg.norm(A @ x - b_perturbado)\n",
        "\n",
        "# Mostrar resultados\n",
        "print(f\"Residuo inciso a): {residuo_inciso_a:.2e}\")\n",
        "print(f\"Residuo inciso b): {residuo_inciso_b:.2e}\")\n",
        "\n",
        "\n",
        "#Podemos ver (después de correr este código) que las soluciones son muy diferentes aunque el cambio en el vector\n",
        "#b es muy pequeño, por lo que podemos intuir que la matriz A tiene problemas de condicionamiento (puede tener columnas casi linealmente dependientes)"
      ]
    }
  ]
}