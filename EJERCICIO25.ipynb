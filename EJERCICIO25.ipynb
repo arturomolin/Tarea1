{
  "nbformat": 4,
  "nbformat_minor": 0,
  "metadata": {
    "colab": {
      "provenance": [],
      "include_colab_link": true
    },
    "kernelspec": {
      "name": "python3",
      "display_name": "Python 3"
    },
    "language_info": {
      "name": "python"
    }
  },
  "cells": [
    {
      "cell_type": "markdown",
      "metadata": {
        "id": "view-in-github",
        "colab_type": "text"
      },
      "source": [
        "<a href=\"https://colab.research.google.com/github/arturomolin/Tarea1/blob/main/EJERCICIO25.ipynb\" target=\"_parent\"><img src=\"https://colab.research.google.com/assets/colab-badge.svg\" alt=\"Open In Colab\"/></a>"
      ]
    },
    {
      "cell_type": "code",
      "execution_count": null,
      "metadata": {
        "id": "aU3CD1YhyuaL"
      },
      "outputs": [],
      "source": [
        "#Nathalia\n",
        "import numpy as np\n",
        "\n",
        "def factorizacion_cholesky_LLT(matriz_A):\n",
        "\n",
        "    n = matriz_A.shape[0]\n",
        "    matriz_L = np.zeros_like(matriz_A, dtype=float)\n",
        "\n",
        "    for i in range(n):\n",
        "        for j in range(i+1):\n",
        "            suma = sum(matriz_L[i,k] * matriz_L[j,k] for k in range(j))\n",
        "\n",
        "            if i == j:  # Calculamos la diagonal\n",
        "                matriz_L[i,j] = np.sqrt(matriz_A[i,i] - suma)\n",
        "            else:  # Calculamos los elementos fuera de la diagonal\n",
        "                matriz_L[i,j] = (matriz_A[i,j] - suma) / matriz_L[j,j]\n",
        "\n",
        "    return matriz_L"
      ]
    },
    {
      "cell_type": "code",
      "source": [
        "def factorizacion_cholesky_LDLT(matriz_A):\n",
        "\n",
        "    n = matriz_A.shape[0]\n",
        "    matriz_L_hat = np.eye(n, dtype=float)\n",
        "    matriz_D_hat = np.zeros(n, dtype=float)\n",
        "\n",
        "    for j in range(n):\n",
        "        # Calculamos los elementos diagonales\n",
        "        suma = sum(matriz_L_hat[j,k]**2 * matriz_D_hat[k] for k in range(j))\n",
        "        matriz_D_hat[j] = matriz_A[j,j] - suma\n",
        "\n",
        "        # Calculamos los elementos no diagonales\n",
        "        for i in range(j+1, n):\n",
        "            suma = sum(matriz_L_hat[i,k] * matriz_L_hat[j,k] * matriz_D_hat[k] for k in range(j))\n",
        "            matriz_L_hat[i,j] = (matriz_A[i,j] - suma) / matriz_D_hat[j]\n",
        "\n",
        "    return matriz_L_hat, np.diag(matriz_D_hat)"
      ],
      "metadata": {
        "id": "wp4GGLbmyw2t"
      },
      "execution_count": null,
      "outputs": []
    }
  ]
}