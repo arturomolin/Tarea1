{
  "nbformat": 4,
  "nbformat_minor": 0,
  "metadata": {
    "colab": {
      "provenance": [],
      "authorship_tag": "ABX9TyOou9UL8VHm4K50MZtoyN26",
      "include_colab_link": true
    },
    "kernelspec": {
      "name": "python3",
      "display_name": "Python 3"
    },
    "language_info": {
      "name": "python"
    }
  },
  "cells": [
    {
      "cell_type": "markdown",
      "metadata": {
        "id": "view-in-github",
        "colab_type": "text"
      },
      "source": [
        "<a href=\"https://colab.research.google.com/github/arturomolin/Tarea1/blob/main/Norma_1.ipynb\" target=\"_parent\"><img src=\"https://colab.research.google.com/assets/colab-badge.svg\" alt=\"Open In Colab\"/></a>"
      ]
    },
    {
      "cell_type": "markdown",
      "source": [
        "Calculo de la Norma 1:\n"
      ],
      "metadata": {
        "id": "U9VBMSOXSRoN"
      }
    },
    {
      "cell_type": "code",
      "execution_count": null,
      "metadata": {
        "colab": {
          "base_uri": "https://localhost:8080/"
        },
        "id": "x-Ol8E-8IJuU",
        "outputId": "16e42076-8dae-46d6-a9c3-d92c839190e8",
        "collapsed": true
      },
      "outputs": [
        {
          "output_type": "stream",
          "name": "stdout",
          "text": [
            "Ingrese el número de filas: 2\n",
            "Ingrese el número de columnas: 2\n",
            "Ingrese los elementos de la fila 1 separados por espacio: 1 2\n",
            "Ingrese los elementos de la fila 2 separados por espacio: 1 2\n",
            "Norma 1 de la matriz: 4\n"
          ]
        }
      ],
      "source": [
        "# Aquí definimos la función para establecer la matriz.\n",
        "def norma_1(matriz):\n",
        "    # Hacemos una restricción para que la matriz no esté vacía\n",
        "    if not matriz or not matriz[0]:\n",
        "        raise ValueError(\"La matriz no puede estar vacía\")\n",
        "\n",
        "    # Definimos, como serán las columnas y filas, es decir, su número.\n",
        "    filas = len(matriz)\n",
        "    columnas = len(matriz[0])\n",
        "\n",
        "# Variable para almacenar la máxima suma de columnas\n",
        "    max_suma_col = 0\n",
        "\n",
        "    # Recorremos cada columna de la matriz\n",
        "    for j in range(columnas):\n",
        "        suma_columna = 0\n",
        "        for i in range(filas):\n",
        "# Sumamos el valor absoluto del elemento, esto porque hablamos de una matriz.\n",
        "            suma_columna += abs(matriz[i][j])\n",
        "\n",
        "#Hacemos la formula de la norma 1.\n",
        "        # Actualizamos el máximo si la suma de esta columna es mayor\n",
        "        if suma_columna > max_suma_col:\n",
        "            max_suma_col = suma_columna\n",
        "\n",
        "    return max_suma_col  # Devolvemos la norma 1 de la matriz\n",
        "\n",
        "# Aquí puse una función para que Ivan, pueda meter la cantidad de filas y columnas que quiera.\n",
        "filas = int(input(\"Ingrese el número de filas: \"))\n",
        "columnas = int(input(\"Ingrese el número de columnas: \"))\n",
        "\n",
        "# Hacemos una lista para almacenar la matriz\n",
        "matriz = []\n",
        "\n",
        "# Pedimos al usuario los elementos de la matriz fila por fila, se deden de separa con espacios cada elemento.\n",
        "for i in range(filas):\n",
        "\n",
        "    # Solicitamos la fila y convertimos los valores a enteros, por eso ocupe Int.\n",
        "    fila = list(map(int, input(f\"Ingrese los elementos de la fila {i+1} separados por espacio: \").split()))\n",
        "\n",
        "    # aquí, ocupe un if-else, para que verifique el tamaño de las columnas y filas.\n",
        "    if len(fila) != columnas:\n",
        "        raise ValueError(\"El número de elementos en la fila no coincide con el número de columnas especificado\")\n",
        "\n",
        "    matriz.append(fila)  # Agregamos la fila a la matriz\n",
        "\n",
        "# Calculamos la norma 1 de la matriz e imprimimos el resultado.\n",
        "resultado = norma_1(matriz)\n",
        "print(\"Norma 1 de la matriz:\", resultado)"
      ]
    }
  ]
}